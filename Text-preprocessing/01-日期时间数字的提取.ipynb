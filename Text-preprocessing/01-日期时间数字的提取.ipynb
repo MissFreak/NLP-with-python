{
 "cells": [
  {
   "cell_type": "markdown",
   "metadata": {},
   "source": [
    "尽管深度学习NLP的奇技淫巧很酷炫，但是基础的文本数据清洗却十分繁琐，因此还是需要整理相关的知识。文本数据中重要的信息就是时间，在本篇笔记中我将总结如何抽取和处理日期和时间数据。囊括的工具包括：python, pandas，bs, sql, excel等。\n",
    "\n",
    "看到相关的代码我就会放进来，可能会有点乱，作为snippets使用吧。"
   ]
  },
  {
   "cell_type": "markdown",
   "metadata": {},
   "source": [
    "# Python"
   ]
  },
  {
   "cell_type": "markdown",
   "metadata": {},
   "source": [
    "## Regular Expression"
   ]
  },
  {
   "cell_type": "markdown",
   "metadata": {},
   "source": [
    "- 正则表达式参考资料：https://www.py4e.com/html3/11-regex\n",
    "- examples: https://cs.lmu.edu/~ray/notes/regex/\n",
    "- Cheatsheet：\n",
    "    - https://www.py4e.com/lectures3/Pythonlearn-11-Regex-Handout.txt\n",
    "    - http://web.mit.edu/hackl/www/lab/turkshop/slides/regex-cheatsheet.pdf\n",
    "    - https://www.runoob.com/python/python-reg-expressions.html\n",
    "    - https://docs.python.org/zh-cn/3.7/library/re.html\n",
    "- Python参考书籍：\n",
    "    - http://do1.dr-chuck.com/pythonlearn/EN_us/pythonlearn.pdf\n",
    "\n",
    "假设我们有许多纯文本格式的文件，我们需要从中识别和抽取出时间格式的数据，该如何操作呢？"
   ]
  },
  {
   "cell_type": "markdown",
   "metadata": {},
   "source": [
    "## 批量读取文件"
   ]
  },
  {
   "cell_type": "code",
   "execution_count": null,
   "metadata": {},
   "outputs": [],
   "source": [
    "import os\n",
    "\n",
    "#文件路径\n",
    "file_dir = \"your path\"\n",
    "#找到文件路径下的所有文件名称，返回列表\n",
    "file_list = os.listdir(file_dir)\n",
    "\n",
    "for one_file in file_list:\n",
    "    #重构文件路径\n",
    "    file_path = os.path.join(file_dir,one_file)\n",
    "    try:\n",
    "        with open(file_path) as f:\n",
    "            one_file = f.read()\n",
    "        #有些文件可能损坏，无法读取\n",
    "    except:\n",
    "        print(\"cannot read\" + one_file)"
   ]
  },
  {
   "cell_type": "markdown",
   "metadata": {},
   "source": [
    "## 日期时间提取与格式化"
   ]
  },
  {
   "cell_type": "markdown",
   "metadata": {},
   "source": [
    "参考资料：https://blog.csdn.net/qq_43404784/article/details/84704643\n",
    ">在文本中日期呈现的方式各种各样：2018.12.2、2018.12.02、2018-12-2、2018-12-02、201/12/2、二零一八年十二月二日、2018年12月2日 等等"
   ]
  },
  {
   "cell_type": "code",
   "execution_count": null,
   "metadata": {},
   "outputs": [],
   "source": [
    "# 利用正则表达式和apply函数将日期一次性提取出来：\n",
    "import re\n",
    "pattern = re.compile('\\d{4}[\\.\\-/年]{1}\\d{1,2}[\\.\\-/月]{1}\\d{1,2}[日号]{0,1}|二.{3}年.{1,2}月.{1,3}[日号]{1}')\n",
    "data['date'] = data['text'].apply(lambda s: pattern.findall(s))"
   ]
  },
  {
   "cell_type": "code",
   "execution_count": 14,
   "metadata": {},
   "outputs": [
    {
     "name": "stdout",
     "output_type": "stream",
     "text": [
      "<class 'datetime.datetime'>\n",
      "2020/11/16\n"
     ]
    }
   ],
   "source": [
    "# 参考资料：https://blog.csdn.net/mitongxue/article/details/103585450\n",
    "import datetime\n",
    "DATE =datetime.datetime.now()  \n",
    "print(type(DATE)) #2019-12-17 18:29:05.494577\n",
    "date=DATE.strftime(\"%Y/%m/%d\")\n",
    "print(date) #2019/12/17"
   ]
  },
  {
   "cell_type": "code",
   "execution_count": null,
   "metadata": {},
   "outputs": [],
   "source": [
    "#日期格式化\n",
    "replace_dic = {'元': '01', '二○一七': '2017', '二○一八': '2018', '二〇一七': '2017', '二〇一八': '2018', '年': '-', '月': '-',\n",
    "               '日': '','\\.': '-', '/': '-', '号': '','三十一': '31', '三十': '30', '二十九': '29', '二十八': '28', '二十七': '27', \n",
    "               '二十六': '26', '二十五': '25','二十四': '24', '二十三': '23', '二十二': '22', '二十一': '21', '二十': '20', '十九': '19', \n",
    "               '十八': '18','十七': '17', '十六': '16', '十五': '15', '十四': '14', '十三': '13', '十二': '12', '十一': '11', '十': '10',\n",
    "               '九': '09', '八': '08', '七': '07', '六': '06', '五': '05', '四': '04', '三': '03', '二': '02','一': '01'}\n",
    "\n",
    "for key, value in replace_dic.items():\n",
    "    data['date'] = data['date'].apply(lambda s: re.sub(key, value, s))"
   ]
  },
  {
   "cell_type": "code",
   "execution_count": null,
   "metadata": {},
   "outputs": [],
   "source": [
    "# 自定义格式化函数。\n",
    "def to_time(s):\n",
    "    a = s.split('-')\n",
    "    # return pd.datetime.strptime(s,'%Y-%m-%d') \n",
    "    return str(datetime.date(int(a[0]), int(a[1]), int(a[2])))\n",
    "\n",
    "import datetime\n",
    "data['date'] = data['date'].apply(to_time)"
   ]
  },
  {
   "cell_type": "code",
   "execution_count": null,
   "metadata": {},
   "outputs": [],
   "source": [
    "# 或者在pandas操作\n",
    "data['time'] = pd.to_datetime(data.date, format='%Y-%m-%d')"
   ]
  },
  {
   "cell_type": "markdown",
   "metadata": {},
   "source": [
    "# Pandas"
   ]
  },
  {
   "cell_type": "markdown",
   "metadata": {},
   "source": [
    "很多时候我们的数据是以表格形式存在，这时需要pandas批量提取或更改数据。pandas处理文本数据(pandas.Series.str)的常用方法(String methods)有：https://pandas.pydata.org/pandas-docs/stable/user_guide/text.html\n",
    "\n",
    "\n",
    "以下例子参考：https://www.dezyre.com/recipes/preprocess-string-data-within-pandas-dataframe"
   ]
  },
  {
   "cell_type": "code",
   "execution_count": 10,
   "metadata": {},
   "outputs": [
    {
     "data": {
      "text/html": [
       "<div>\n",
       "<style scoped>\n",
       "    .dataframe tbody tr th:only-of-type {\n",
       "        vertical-align: middle;\n",
       "    }\n",
       "\n",
       "    .dataframe tbody tr th {\n",
       "        vertical-align: top;\n",
       "    }\n",
       "\n",
       "    .dataframe thead th {\n",
       "        text-align: right;\n",
       "    }\n",
       "</style>\n",
       "<table border=\"1\" class=\"dataframe\">\n",
       "  <thead>\n",
       "    <tr style=\"text-align: right;\">\n",
       "      <th></th>\n",
       "      <th>stringData</th>\n",
       "    </tr>\n",
       "  </thead>\n",
       "  <tbody>\n",
       "    <tr>\n",
       "      <th>0</th>\n",
       "      <td>Sheldon 1 2019-09-29    3242.0</td>\n",
       "    </tr>\n",
       "    <tr>\n",
       "      <th>1</th>\n",
       "      <td>Copper 1 2020-12-25       3413.7</td>\n",
       "    </tr>\n",
       "    <tr>\n",
       "      <th>2</th>\n",
       "      <td>Raj 0 2014-05-25     2123.8</td>\n",
       "    </tr>\n",
       "    <tr>\n",
       "      <th>3</th>\n",
       "      <td>Howard 0 2017-09-24   1173.6</td>\n",
       "    </tr>\n",
       "    <tr>\n",
       "      <th>4</th>\n",
       "      <td>Leonard 1 2013-01-15    9134.0</td>\n",
       "    </tr>\n",
       "    <tr>\n",
       "      <th>5</th>\n",
       "      <td>Penny 0 2012-07-24    2755.6</td>\n",
       "    </tr>\n",
       "  </tbody>\n",
       "</table>\n",
       "</div>"
      ],
      "text/plain": [
       "                         stringData\n",
       "0    Sheldon 1 2019-09-29    3242.0\n",
       "1  Copper 1 2020-12-25       3413.7\n",
       "2       Raj 0 2014-05-25     2123.8\n",
       "3      Howard 0 2017-09-24   1173.6\n",
       "4    Leonard 1 2013-01-15    9134.0\n",
       "5      Penny 0 2012-07-24    2755.6"
      ]
     },
     "execution_count": 10,
     "metadata": {},
     "output_type": "execute_result"
    }
   ],
   "source": [
    "import pandas as pd\n",
    "data = {'stringData': ['Sheldon 1 2019-09-29    3242.0',\n",
    "                           'Copper 1 2020-12-25       3413.7',\n",
    "                           'Raj 0 2014-05-25     2123.8',\n",
    "                           'Howard 0 2017-09-24   1173.6',\n",
    "                           'Leonard 1 2013-01-15    9134.0',\n",
    "                           'Penny 0 2012-07-24    2755.6']}\n",
    "df = pd.DataFrame(data, columns = ['stringData'])\n",
    "df"
   ]
  },
  {
   "cell_type": "code",
   "execution_count": 11,
   "metadata": {
    "scrolled": true
   },
   "outputs": [
    {
     "data": {
      "text/html": [
       "<div>\n",
       "<style scoped>\n",
       "    .dataframe tbody tr th:only-of-type {\n",
       "        vertical-align: middle;\n",
       "    }\n",
       "\n",
       "    .dataframe tbody tr th {\n",
       "        vertical-align: top;\n",
       "    }\n",
       "\n",
       "    .dataframe thead th {\n",
       "        text-align: right;\n",
       "    }\n",
       "</style>\n",
       "<table border=\"1\" class=\"dataframe\">\n",
       "  <thead>\n",
       "    <tr style=\"text-align: right;\">\n",
       "      <th></th>\n",
       "      <th>stringData</th>\n",
       "      <th>state</th>\n",
       "      <th>Boolean</th>\n",
       "      <th>date</th>\n",
       "      <th>score</th>\n",
       "    </tr>\n",
       "  </thead>\n",
       "  <tbody>\n",
       "    <tr>\n",
       "      <th>0</th>\n",
       "      <td>Sheldon 1 2019-09-29    3242.0</td>\n",
       "      <td>Sheldon</td>\n",
       "      <td>1</td>\n",
       "      <td>2019-09-29</td>\n",
       "      <td>3242.0</td>\n",
       "    </tr>\n",
       "    <tr>\n",
       "      <th>1</th>\n",
       "      <td>Copper 1 2020-12-25       3413.7</td>\n",
       "      <td>Copper</td>\n",
       "      <td>1</td>\n",
       "      <td>2020-12-25</td>\n",
       "      <td>3413.7</td>\n",
       "    </tr>\n",
       "    <tr>\n",
       "      <th>2</th>\n",
       "      <td>Raj 0 2014-05-25     2123.8</td>\n",
       "      <td>Raj</td>\n",
       "      <td>0</td>\n",
       "      <td>2014-05-25</td>\n",
       "      <td>2123.8</td>\n",
       "    </tr>\n",
       "    <tr>\n",
       "      <th>3</th>\n",
       "      <td>Howard 0 2017-09-24   1173.6</td>\n",
       "      <td>Howard</td>\n",
       "      <td>0</td>\n",
       "      <td>2017-09-24</td>\n",
       "      <td>1173.6</td>\n",
       "    </tr>\n",
       "    <tr>\n",
       "      <th>4</th>\n",
       "      <td>Leonard 1 2013-01-15    9134.0</td>\n",
       "      <td>Leonard</td>\n",
       "      <td>1</td>\n",
       "      <td>2013-01-15</td>\n",
       "      <td>9134.0</td>\n",
       "    </tr>\n",
       "    <tr>\n",
       "      <th>5</th>\n",
       "      <td>Penny 0 2012-07-24    2755.6</td>\n",
       "      <td>Penny</td>\n",
       "      <td>0</td>\n",
       "      <td>2012-07-24</td>\n",
       "      <td>2755.6</td>\n",
       "    </tr>\n",
       "  </tbody>\n",
       "</table>\n",
       "</div>"
      ],
      "text/plain": [
       "                         stringData    state Boolean        date   score\n",
       "0    Sheldon 1 2019-09-29    3242.0  Sheldon       1  2019-09-29  3242.0\n",
       "1  Copper 1 2020-12-25       3413.7   Copper       1  2020-12-25  3413.7\n",
       "2       Raj 0 2014-05-25     2123.8      Raj       0  2014-05-25  2123.8\n",
       "3      Howard 0 2017-09-24   1173.6   Howard       0  2017-09-24  1173.6\n",
       "4    Leonard 1 2013-01-15    9134.0  Leonard       1  2013-01-15  9134.0\n",
       "5      Penny 0 2012-07-24    2755.6    Penny       0  2012-07-24  2755.6"
      ]
     },
     "execution_count": 11,
     "metadata": {},
     "output_type": "execute_result"
    }
   ],
   "source": [
    "df['state'] = df['stringData'].str.extract('([A-Z]\\w{0,})', expand=True)\n",
    "df['Boolean'] = df['stringData'].str.extract('(\\d)', expand=True)\n",
    "df['date'] = df['stringData'].str.extract('(....-..-..)', expand=True)\n",
    "df['score'] = df['stringData'].str.extract('(\\d\\d\\d\\d\\.\\d)', expand=True)\n",
    "df"
   ]
  },
  {
   "cell_type": "code",
   "execution_count": null,
   "metadata": {},
   "outputs": [],
   "source": [
    "df['日期'] = df['时间'].str.extract(r'\\d{4}年(\\d{1,2}月\\d{1,2}日)')\n",
    "df['月份'] = df['日期'].str.extract(r'(\\d{1,2})月')\n",
    "df['年份'] = df['时间'].str.extract(r'(\\d{4})年')"
   ]
  },
  {
   "cell_type": "code",
   "execution_count": null,
   "metadata": {},
   "outputs": [],
   "source": [
    "# 区分不同数据格式\n",
    "df2['时间'] = pd.to_datetime(df2['时间'], errors='coerce')\n",
    "df_new = df[df2['讲者'].isna()]\n",
    "# 添加新的columns\n",
    "df_new['new'] = np.nan\n",
    "# reset index\n",
    "df_new.drop(df.columns[0], axis=1).reset_index(inplace=True)"
   ]
  },
  {
   "cell_type": "markdown",
   "metadata": {},
   "source": [
    "## 多进程加快速度"
   ]
  },
  {
   "cell_type": "code",
   "execution_count": null,
   "metadata": {},
   "outputs": [],
   "source": [
    "import multiprocessing\n",
    "import time\n",
    "def some_func(d):\n",
    "    print(d)\n",
    "data = [1, 2, ..., 10]\n",
    "t1 = time.time()\n",
    "pool = multiprocessing.Pool(processes = 3)\n",
    "pool.map(some_func, data)\n",
    "pool.close()\n",
    "t2 = time.time()\n",
    "print(\"并行执行时间：\", int(t2 - t1))"
   ]
  },
  {
   "cell_type": "markdown",
   "metadata": {},
   "source": [
    "# 网页文本提取"
   ]
  },
  {
   "cell_type": "markdown",
   "metadata": {},
   "source": [
    "很多时候我们是抽取网页信息(html或json)。这部分待补充。"
   ]
  }
 ],
 "metadata": {
  "kernelspec": {
   "display_name": "Python 3",
   "language": "python",
   "name": "python3"
  },
  "language_info": {
   "codemirror_mode": {
    "name": "ipython",
    "version": 3
   },
   "file_extension": ".py",
   "mimetype": "text/x-python",
   "name": "python",
   "nbconvert_exporter": "python",
   "pygments_lexer": "ipython3",
   "version": "3.8.3"
  }
 },
 "nbformat": 4,
 "nbformat_minor": 4
}
