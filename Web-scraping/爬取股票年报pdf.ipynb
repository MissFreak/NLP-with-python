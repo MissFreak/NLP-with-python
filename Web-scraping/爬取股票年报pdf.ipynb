{
 "cells": [
  {
   "cell_type": "markdown",
   "metadata": {},
   "source": [
    "# 获取股票列表\n",
    "在tushare找到某个股票对应的行业分类，然后获取该行业的成分股，得到sh_list_code和sz_list_code"
   ]
  },
  {
   "cell_type": "code",
   "execution_count": 1,
   "metadata": {},
   "outputs": [],
   "source": [
    "import tushare as ts\n",
    "pro = ts.pro_api('3bd14e479e4a24031cb17f4f4e8095af4e8d29c33f7565cdcdba01b9')"
   ]
  },
  {
   "cell_type": "code",
   "execution_count": 2,
   "metadata": {},
   "outputs": [
    {
     "name": "stdout",
     "output_type": "stream",
     "text": [
      "互联网信息服务\n",
      "852221.SI\n"
     ]
    }
   ],
   "source": [
    "# 例如：找到三七互娱的行业分类\n",
    "# 首先查找三七互娱的code\n",
    "data = pro.stock_basic(exchange='', list_status='L', fields='ts_code,symbol,name,area,industry,list_date')\n",
    "code = data[data['name'] == '三七互娱'].iloc[0]['ts_code']\n",
    "# 然后匹配对应的行业分类\n",
    "df_code = pro.index_member(ts_code=code)\n",
    "df_types = pro.index_classify(level='L3', src='SW')\n",
    "for index_code in df_code.index_code.to_list():\n",
    "    try:\n",
    "        print(df_types[df_types['index_code'] == index_code].iloc[0]['industry_name'])\n",
    "        print(index_code)\n",
    "    except:\n",
    "        continue"
   ]
  },
  {
   "cell_type": "code",
   "execution_count": 3,
   "metadata": {},
   "outputs": [
    {
     "data": {
      "text/plain": [
       "'002555.SZ'"
      ]
     },
     "execution_count": 3,
     "metadata": {},
     "output_type": "execute_result"
    }
   ],
   "source": [
    "code"
   ]
  },
  {
   "cell_type": "code",
   "execution_count": 5,
   "metadata": {},
   "outputs": [],
   "source": [
    "# 获取互联网信息服务的成份股\n",
    "df_stocks = pro.index_member(index_code='852221.SI')\n",
    "df_stocks['pure_code'] = df_stocks['con_code'].str.extract(r'^([0-9]+)')\n",
    "df_stocks['sh_or_sz'] = df_stocks['con_code'].str.extract(r'([A-Z]+)$')"
   ]
  },
  {
   "cell_type": "code",
   "execution_count": 9,
   "metadata": {},
   "outputs": [],
   "source": [
    "sh_list_code = df_stocks[df_stocks['sh_or_sz']=='SH']['pure_code'].to_list()\n",
    "sz_list_code = df_stocks[df_stocks['sh_or_sz']=='SZ']['pure_code'].to_list()"
   ]
  },
  {
   "cell_type": "code",
   "execution_count": 11,
   "metadata": {
    "scrolled": true
   },
   "outputs": [
    {
     "name": "stdout",
     "output_type": "stream",
     "text": [
      "['603000', '603613', '603888']\n",
      "['002095', '002315', '300052', '300059', '300226', '300113', '300295', '300431', '300785', '000681', '300292', '300413', '300770', '300494', '002464', '002555', '002602', '300051', '300299']\n"
     ]
    }
   ],
   "source": [
    "print(sh_list_code)\n",
    "print(sz_list_code)"
   ]
  },
  {
   "cell_type": "markdown",
   "metadata": {},
   "source": [
    "# 下载公告\n",
    "从[上证交易所官网](http://www.sse.com.cn/disclosure/listedinfo/announcement/)下载sh_list_code中所有股票对应的公告"
   ]
  },
  {
   "cell_type": "code",
   "execution_count": null,
   "metadata": {},
   "outputs": [],
   "source": [
    "from shreport import SH\n",
    "import os\n",
    "savepath = os.getcwd()\n",
    "cookies = {'Cookie': 'yfx_c_g_u_id_10000042=_ck20111723174214096145556178750; yfx_f_l_v_t_10000042=f_t_1605626261895__r_t_1605626261895__v_t_1605626261895__r_c_0; sseMenuSpecial=8348; VISITED_MENU=%5B%229729%22%2C%228352%22%5D'}\n",
    "sh = SH(cookies)\n",
    "\n",
    "for code in sh_list_code:\n",
    "    if code \n",
    "        sh.download(code, savepath) # 保存到savepath+\\disclosure\\reports"
   ]
  },
  {
   "cell_type": "markdown",
   "metadata": {},
   "source": [
    "从深证交易所下载sz_list_code中的股票"
   ]
  },
  {
   "cell_type": "code",
   "execution_count": 5,
   "metadata": {},
   "outputs": [],
   "source": [
    "from getsz import save_pdf\n",
    "save_pdf('002555')"
   ]
  },
  {
   "cell_type": "code",
   "execution_count": 19,
   "metadata": {},
   "outputs": [],
   "source": [
    "# 获取所有pdf的名字放入字典，删除空的文件夹\n",
    "# pdf_dict = {}\n",
    "# import shutil\n",
    "# for code in list_code:\n",
    "#     add = 'disclosure/reports'\n",
    "#     each_path = os.path.join(savepath,add,code)\n",
    "#     try:\n",
    "#         pdf_list = os.listdir(each_path)\n",
    "#         if pdf_list:\n",
    "#             pdf_dict[code]=os.listdir(each_path)\n",
    "#         else:\n",
    "#             shutil.rmtree(each_path)\n",
    "#     except:\n",
    "#         continue\n",
    "# pdf_dict"
   ]
  }
 ],
 "metadata": {
  "kernelspec": {
   "display_name": "Python 3",
   "language": "python",
   "name": "python3"
  },
  "language_info": {
   "codemirror_mode": {
    "name": "ipython",
    "version": 3
   },
   "file_extension": ".py",
   "mimetype": "text/x-python",
   "name": "python",
   "nbconvert_exporter": "python",
   "pygments_lexer": "ipython3",
   "version": "3.8.3"
  }
 },
 "nbformat": 4,
 "nbformat_minor": 4
}
