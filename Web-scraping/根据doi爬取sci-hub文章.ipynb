{
 "cells": [
  {
   "cell_type": "markdown",
   "metadata": {},
   "source": [
    "从sci-hub爬取相关文章并保存为pdf。"
   ]
  },
  {
   "cell_type": "code",
   "execution_count": 19,
   "metadata": {},
   "outputs": [],
   "source": [
    "from fake_useragent import UserAgent\n",
    "import requests\n",
    "from bs4 import BeautifulSoup\n",
    "ua = UserAgent()"
   ]
  },
  {
   "cell_type": "code",
   "execution_count": 20,
   "metadata": {},
   "outputs": [],
   "source": [
    "domain_scihub = 'https://sci-hub.tf/'\n",
    "doi = 'https://doi.org/10.1093/applin/amz034'\n",
    "sci_url = domain_scihub + doi\n",
    "headers = {'User-Agent': ua.random}\n",
    "bs = BeautifulSoup(requests.get(sci_url, headers=headers).content, \"lxml\")\n",
    "# 下面这一步是关键：\n",
    "pdf_link = bs.find('div', id = 'buttons').find_all('a')[1].attrs.get(\"onclick\").replace('location.href=','')[1:-1]"
   ]
  },
  {
   "cell_type": "code",
   "execution_count": 59,
   "metadata": {},
   "outputs": [],
   "source": [
    "response = requests.get('http:' + pdf_link, headers=headers)\n",
    "with open(doi+'.pdf', 'wb') as f:\n",
    "    f.write(response.content)"
   ]
  }
 ],
 "metadata": {
  "kernelspec": {
   "display_name": "Python 3",
   "language": "python",
   "name": "python3"
  },
  "language_info": {
   "codemirror_mode": {
    "name": "ipython",
    "version": 3
   },
   "file_extension": ".py",
   "mimetype": "text/x-python",
   "name": "python",
   "nbconvert_exporter": "python",
   "pygments_lexer": "ipython3",
   "version": "3.8.3"
  }
 },
 "nbformat": 4,
 "nbformat_minor": 4
}
