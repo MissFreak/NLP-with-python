{
 "cells": [
  {
   "cell_type": "code",
   "execution_count": 7,
   "metadata": {},
   "outputs": [],
   "source": [
    "import pdfplumber\n",
    "import os"
   ]
  },
  {
   "cell_type": "code",
   "execution_count": 8,
   "metadata": {},
   "outputs": [],
   "source": [
    "file_path = 'book.pdf'\n",
    "pdf = pdfplumber.open(file_path) "
   ]
  },
  {
   "cell_type": "code",
   "execution_count": 9,
   "metadata": {},
   "outputs": [
    {
     "name": "stdout",
     "output_type": "stream",
     "text": [
      "The max x1: 367.604\n"
     ]
    }
   ],
   "source": [
    "i = 7\n",
    "chars = pdf.pages[i].chars\n",
    "x1 = max([char['x1'] for char in chars])\n",
    "print('The max x1: '+str(x1))"
   ]
  },
  {
   "cell_type": "code",
   "execution_count": 10,
   "metadata": {},
   "outputs": [
    {
     "name": "stdout",
     "output_type": "stream",
     "text": [
      "The max x1: 364.725\n"
     ]
    }
   ],
   "source": [
    "i = 8\n",
    "chars = pdf.pages[i].chars\n",
    "x1 = max([char['x1'] for char in chars])\n",
    "print('The max x1: '+str(x1))"
   ]
  },
  {
   "cell_type": "code",
   "execution_count": 11,
   "metadata": {},
   "outputs": [
    {
     "name": "stdout",
     "output_type": "stream",
     "text": [
      "2\n"
     ]
    },
    {
     "data": {
      "text/plain": [
       "'cACPCCcA'"
      ]
     },
     "execution_count": 11,
     "metadata": {},
     "output_type": "execute_result"
    }
   ],
   "source": [
    "i = 28\n",
    "chars = pdf.pages[i].chars\n",
    "print(chars[0]['text'])\n",
    "space = [chars[i-1]['y0']-chars[i]['y1'] for i in range(1,len(chars)) if chars[i-1]['y0']-chars[i]['y1']>4.5]\n",
    "space_list = [chars[i]['text'] for i in range(1,len(chars)) if chars[i-1]['y0']-chars[i]['y1']>4.5]\n",
    "''.join(space_list)"
   ]
  },
  {
   "cell_type": "code",
   "execution_count": 12,
   "metadata": {},
   "outputs": [
    {
     "name": "stdout",
     "output_type": "stream",
     "text": [
      "The unique heights: {Decimal('9.000'), Decimal('10.000'), Decimal('6.300'), Decimal('14.000')}\n"
     ]
    }
   ],
   "source": [
    "chars = []\n",
    "for page in pdf.pages[7:166]:\n",
    "    for char in page.chars:\n",
    "        chars.append(char)\n",
    "width_unique = set([char['height'] for char in chars])\n",
    "print('The unique heights: '+str(width_unique))"
   ]
  },
  {
   "cell_type": "code",
   "execution_count": 13,
   "metadata": {},
   "outputs": [],
   "source": [
    "headers = [i for i in range(len(chars)) if chars[i]['height'] == 10.000]\n",
    "separate_header = [(0, headers[0])]\n",
    "for i in range(len(headers)-1):\n",
    "    if headers[i]+1 != headers[i+1]:\n",
    "        separate_header.append((headers[i],headers[i+1]))\n",
    "separate_header.append((headers[-1], len(chars)))"
   ]
  },
  {
   "cell_type": "code",
   "execution_count": 14,
   "metadata": {},
   "outputs": [],
   "source": [
    "header_list = []\n",
    "body_list = []\n",
    "for i in range(1, len(separate_header)):\n",
    "    min_header = separate_header[i-1][1]\n",
    "    max_header = separate_header[i][0]+1 \n",
    "    min_body = separate_header[i][0]+1\n",
    "    max_body = separate_header[i][1] \n",
    "    header_list.append(''.join([chars[i]['text'] for i in range(min_header, max_header)]))\n",
    "    body_list.append(''.join([('\\n'+chars[i]['text']) if chars[i-1]['y0']-chars[i]['y1']>4.5\n",
    "                              else (''+chars[i]['text'])\n",
    "                              for i in range(min_body, max_body)]))"
   ]
  },
  {
   "cell_type": "code",
   "execution_count": 15,
   "metadata": {},
   "outputs": [],
   "source": [
    "import pandas as pd\n",
    "d = {'header':header_list,'body':body_list}\n",
    "df = pd.DataFrame(d)"
   ]
  },
  {
   "cell_type": "code",
   "execution_count": 16,
   "metadata": {},
   "outputs": [],
   "source": [
    "import docx2txt\n",
    "# read in word file\n",
    "result = docx2txt.process(\"terms.docx\")\n",
    "result = '\\n'.join([line for line in result.split('\\n') if line])\n",
    "import re\n",
    "result = re.sub(r'( \\(.*\\))', '', result)\n",
    "result = re.sub(r'(/| and )', '\\n', result)\n",
    "result = re.sub(r'(process)\\n', 'processes\\n', result)\n",
    "result = re.sub(r'(,.*)\\n', '\\n', result).lower()"
   ]
  },
  {
   "cell_type": "code",
   "execution_count": 17,
   "metadata": {},
   "outputs": [],
   "source": [
    "df['header'] = df['header'].str.replace(r'( \\(.*\\))', '')"
   ]
  },
  {
   "cell_type": "code",
   "execution_count": 18,
   "metadata": {},
   "outputs": [],
   "source": [
    "df['body'] = df['body'].str.replace(r'(\\W)([a-z]+ \\d{2,3})(\\n|$)', r'\\1 \\3',regex=True)\n",
    "df['body'] = df['body'].str.replace(r'(\\W)(\\d{2,3} [a-z]+)(\\n|$)', r'\\1 \\3',regex=True)"
   ]
  },
  {
   "cell_type": "code",
   "execution_count": 19,
   "metadata": {
    "scrolled": true
   },
   "outputs": [],
   "source": [
    "result_df = df[df['header'].isin(result.split('\\n'))]\n",
    "list_headers = result_df['header'].to_list()"
   ]
  },
  {
   "cell_type": "code",
   "execution_count": 21,
   "metadata": {},
   "outputs": [],
   "source": [
    "result_df.to_csv('result.csv')"
   ]
  },
  {
   "cell_type": "code",
   "execution_count": 22,
   "metadata": {},
   "outputs": [
    {
     "data": {
      "text/plain": [
       "['discursive',\n",
       " 'ideational functional',\n",
       " 'interpersonal functional',\n",
       " 'textual function',\n",
       " 'appraisal system']"
      ]
     },
     "execution_count": 22,
     "metadata": {},
     "output_type": "execute_result"
    }
   ],
   "source": [
    "[header for header in result.split('\\n')if header not in list_headers]"
   ]
  },
  {
   "cell_type": "code",
   "execution_count": 23,
   "metadata": {},
   "outputs": [],
   "source": [
    "import pandas as pd\n",
    "df = pd.read_csv('result.csv')"
   ]
  },
  {
   "cell_type": "code",
   "execution_count": 24,
   "metadata": {},
   "outputs": [
    {
     "data": {
      "text/html": [
       "<script type=\"text/Javascript\">var win = window.open(\"\", \"Title\", \"toolbar=no, location=no, directories=no, status=no, menubar=no, scrollbars=yes, resizable=yes, width=780, height=200, top=\"+(screen.height-400)+\", left=\"+(screen.width-840));win.document.body.innerHTML = '<table border=\"1\" class=\"dataframe\">\\  <thead>\\    <tr style=\"text-align: right;\">\\      <th></th>\\      <th>header</th>\\      <th>body</th>\\    </tr>\\  </thead>\\  <tbody>\\    <tr>\\      <th>15</th>\\      <td>back channels</td>\\      <td>\\nA term identified by Duncan (1973) to describe feedback that is given by a hearer in order to indicate that they are attending to someone else’s speech. They can be (1) non-verbal, for example, consisting of nods, gestures or facial expressions, or (2) verbal, for example, words like yeah, right, okay or vocalizations like mm and uh-huh. They can also include cases where a hearer completes part of a speaker’s turn.</td>\\    </tr>\\    <tr>\\      <th>23</th>\\      <td>classroom discourse</td>\\      <td>\\nThe language used by teachers and students to communicate with each other in the classroom. Here, the use of discourse refers to the type, genre or context of language used. An analysis of classroom discourse may not only use recordings of actual speech but could also involve reflexive feedback interviews with participants or consultation of teaching texts. Cazden (2001: 3) notes three questions that classroom discourse analysis can try to address: ‘How do patterns of language use affect what counts as “know-ledge” and what counts as learning? How do these patterns affect the equality or inequality of students’ educational opportunities? What com-municative competence do these patterns presume and/or foster?’ There is no single way of carrying out classroom discourse analysis, although a number of schemes have been developed; for example, Walsh (2006) uses a framework for examining classroom discourse called Self-Evaluation of Teacher Talk (SETT).</td>\\    </tr>\\    <tr>\\      <th>24</th>\\      <td>clause</td>\\      <td>\\nA set of words consisting of a SUBJECT and a PREDICATE, and expressing a pro-position. Halliday’s SYSTEMIC FUNCTIONAL GRAMMAR considers the clause, rather than the sentence, as the basic unit of grammatical analysis. A clause can exist on its own as a sentence, for example, ‘The man replied’ (BNC, A0R), but more complex sentences can contain multiple clauses or clauses embedded within clauses. Clauses which cannot exist on their own as a sentence are referred to as dependent clauses. Clauses can be classified further; for example, adverbial clauses function as adverbs: ‘I left when I was about eight’ (BNC, CH8). Relative clauses modify nouns: ‘We can return for a moment to 16 code switching\\ntalk to the girl who went to Italy’ (BNC, A04), while complement clauses are arguments of predicates: ‘I am sure that it would be welcomed by them’(BNC, K98). See also PHRASE.</td>\\    </tr>\\    <tr>\\      <th>27</th>\\      <td>cohesion</td>\\      <td>\\nCohesion refers to the way that a text makes sense syntactically. Halliday and Hasan (1976) note that common cohesive devices include forms of reference  \\n(e.g. ANAPHORA and CATAPHORA), ELLIPSIS, SUBSTITUTION, LEXICAL COHESION, conjunc-tion and replacement. De Beaugrande and Dressler (1981: 3) view coherence as one of seven ‘standards of textuality’, claiming that coherence ‘concerns the ways in which the components of the SURFACE TEXT, i.e. the actual words we hear or see, are mutually connected within a sequence. The surface components depend upon each other according to grammatical forms and conventions, such that cohesion rests upon GRAMMATICAL DEPENDENCIES’. See also COHERENCE.</td>\\    </tr>\\    <tr>\\      <th>38</th>\\      <td>conversation analysis</td>\\      <td>\\nA form of linguistic analysis which focuses on transcripts of real-life spoken interactions. It is often referred to as the study of talk in interaction. While analysts study private, informal conversations, they also examine institutional interactions (e.g. doctor–patient, legal interactions, police interviews, talk in the classroom; see Drew and Heritage 1992).\\nCA was developed in the 1960s by the sociologist Harvey Sacks along with Emanuel Schegloff and Gail Jefferson (e.g. Sacks et al. 1974), who were influenced by ETHNOMETHODOLOGY. CA focuses on structures within speech, particularly TURN-TAKING organization, sequence organization (see ADJACENCY \\nPAIR) and REPAIR. A key aspect of CA is the belief that conversations tend to follow regular structures and that breakdowns in such structures are of inter-est. CA therefore involves carrying out a close reading of a transcript, focusing on ‘small’ phenomena like pauses, interruptions and laughter. Most conversa-tion analysts prefer to work with detailed transcripts. Gail Jefferson developed a TRANSCRIPTION scheme which allows analysts to consider the speaker’s vol-ume, intonation, speed and emphasis as well as phenomena like breathing or lip-smacks (see Atkinson and Heritage 1984).\\nConversation analysts focus on the transcript of the talk and therefore do not usually use other sources of information to aid their analysis. For example, they tend to not make inferences about what people are thinking, and they do not interview the participants to ask them about their inner feelings. In addition, many conversation analysts do not try to explain their conversational data by relating it to a person’s IDENTITY or personality or by considering the wider social CONTEXT or any existing theories (which is where CA differs from \\nCRITICAL DISCOURSE ANALYSIS).</td>\\    </tr>\\    <tr>\\      <th>43</th>\\      <td>corpus linguistics</td>\\      <td>\\nMcEnery and Wilson (1996: 1) describe corpus linguistics as the ‘study of language based on examples of “real life” language use’, noting that it is ‘a methodology rather than an aspect of language requiring explanation or description’. Corpus linguists use computer software to examine frequencies and relationships between words in (often large) sets of authentic texts that have been electronically encoded. According to Baker (2006: 10–12), the benefit of such a method is that it can help to reduce researcher bias, enabling existing theories of language use to be tested on a large, represent-ative sample of language data as well as allowing processes such as KEYWORDS or COLLOCATIONS to reveal language patterns that nobody would have hypoth-esized. Hunston (2002) describes some of the many applications of corpus linguistics including language teaching, stylistics, dictionary creation, forensic linguistics, language variation, studies of IDEOLOGY and translation studies. See also CORPUS-ASSISTED DISCOURSE STUDIES.</td>\\    </tr>\\    <tr>\\      <th>45</th>\\      <td>critical discourse analysis</td>\\      <td>\\nAn approach to the analysis of discourse which views language as a social practice and is interested in the ways that ideologies and power relations are expressed through language. Critical discourse analysts are particularly interested in issues of inequality, sometimes keeping in mind the question ‘who benefits?’ when carrying out analysis.\\nUnlike many other forms of linguistic analysis, CDA is not only concerned with words on a page but also involves examining social context – for example, asking how and why the words came to be written or spoken and what other texts are being referenced by them (see INTERTEXTUALITY). The approach was first developed by Norman Fairclough (1989), who adopted a three-dimensional framework to analysis. The first stage (DESCRIPTION) involves text analysis, correlating with CRITICAL LINGUISTICS, which itself was developed out of Halliday’s SYSTEMIC FUNCTIONAL GRAMMAR. The second stage (INTERPRETA-\\nTION) focuses on the relationship between text and interaction, seeing the text as both a product of the process of production and a resource in the process of interpretation. The final stage (EXPLANATION) examines the relationship between interaction and social context, considering the social effects of the processes of production and interpretation.\\nOther approaches to critical discourse analysis have been proposed, although all tend towards combining text analysis with consideration of wider social context. Reisigl and Wodak’s (2001) DISCOURSE-HISTORICAL APPROACH uses \\nARGUMENTATION theory, whereas van Leeuwen (1996, 1997) concentrates on social actor representation. Jäger’s approach (2001) is based on using theoretical and methodological aspects of Foucauldian critical discourse analysis with dispositive analysis. Van Dijk’s SOCIO-COGNITIVE APPROACH to CDA employs a three-part model of memory, while Hart and Luke (2007) focus on the synergy between cognitive linguistics and CDA. O’Halloran (2003) develops a model of the interpretation stage of CDA, taking ideas from connectionism, cognitive linguistics, inferencing and RELEVANCE THEORY, while Partington (2004) and Baker (2006) have suggested an approach to CDA which utilizes corpus linguistics methods to identify large-scale patterns (see \\nCORPUS-ASSISTED DISCOURSE STUDIES). Even within these specific ‘flavours’ of CDA, there is generally no step-by-step, fixed approach to analysis. The analyst cultural  \\nis given considerable freedom in choosing texts, combinations of different analytical techniques and the order in which they are carried out. This can sometimes make analysis challenging to novitiates, and this freedom, com-bined with the fact that CDA is concerned with highlighting social problems like prejudice and exclusion, can open up practitioners to the accusation of bias (e.g. they could select texts that prove their point while ignoring those which do not). CDA has responded to this criticism in two ways: (1) by acknowledging that the concept of the ‘neutral’ researcher is a fallacy and advocating REFLEXIVITY, so the researcher reflects on his or her own position and how it develops as the research progresses, and (2) by incorporating \\nTRIANGULATION, such as combining small-scale qualitative analysis with practices from CORPUS LINGUISTICS such as SAMPLING and quantitative techniques, which give evidence for wider trends.</td>\\    </tr>\\    <tr>\\      <th>50</th>\\      <td>description</td>\\      <td>\\nA form of analysis which attempts to accurately describe the features of a particular language without making value judgements, such as the extent to which the language is correct, clear or manipulative in some way. This is dif-ferent to PRESCRIPTIVISM. Description is usually an initial stage of CRITICAL DISCOURSE \\nANALYSIS which usually comes before INTERPRETATION and EXPLANATION. It would involve identifying a set of formal linguistic features in a text, such as pronoun use, metaphor, modality, nominalizations and agency.</td>\\    </tr>\\    <tr>\\      <th>53</th>\\      <td>discourse</td>\\      <td>\\nA term with several related and often quite loose meanings. (1) Perhaps in its most general usage, it can refer to any form of ‘language in use’ (Brown and Yule 1983) or naturally occurring language. (2) It can also refer more specifically to spoken language, hence the term DISCOURSE MARKER, which tends to refer to speech. Stubbs (1983: 9) also makes a distinction between dis-course, which is interactive, and text, which is a non-interactive monologue.  \\n(3) Another meaning conceives discourse as ‘language above the sentence or above the clause’ (Stubbs 1983: 1) and would lend itself to the analysis of text structure and pragmatics. (4) Discourse can also be used to refer to particular contexts of language use, and in this sense it becomes similar to concepts like genre or text type. For example, we can conceptualize political discourse (the sort of language used in political contexts) or media discourse (language use in the media). (5) In addition, some writers have conceived of discourse as related to particular topics, such as an environmental discourse or colonial discourse (which may occur in many different genres). Such labels sometimes suggest a particular attitude towards a topic (e.g. people engaging in envir-onmental discourse would generally be expected to be concerned with protecting the environment rather than wasting resources). (6) Related to this, Foucault (1972: 49) defines discourse more ideologically as ‘practices which systematically form the objects of which they speak’. Burr (1995:48) expands on Foucault’s definition as\\na set of meanings, metaphors, representations, images, stories, statements and so on that in some way together produce a particular version of events . . . Surrounding any one object, event, person etc., there may be a variety of different discourses, each with a different story to tell about the world, a different way of representing it to the world.\\n(7) Sunderland (2004) takes Foucault’s meaning a stage further by explicitly identifying and naming specific discourses such as ‘women beware women’ and ‘male sexual drive’ (see DISCOURSE NAMING, GENDERED DISCOURSE). Discourses are not articulated explicitly but traces of them can be found in language use. The more ideological uses of discourses, which occur towards the end of this list, reflect postmodernist thinking. Potter and Wetherell (1987) have shown that people often appear to voice conflicting opinions around a topic, which they argue is due to them accessing a range of competing discourses in their talk. Discourses are therefore contradictory and shifting, and their identification is necessarily interpretative and open to contestation, particu-larly as it is difficult to ‘step outside’ discourse and view it with complete objectivity. Foucault (1972: 146) notes, ‘it is not possible for us to describe our own archive, since it is from within these rules that we speak’.32 discourse analysis</td>\\    </tr>\\    <tr>\\      <th>54</th>\\      <td>discourse analysis</td>\\      <td>\\nJust as DISCOURSE has numerous meanings, there are equally plentiful concep-tualizations of discourse analysis, which have changed over time. Brown and Yule (1983: ix) refer to it as ‘how humans use language to communicate’. Stubbs (1983: 1) refers to it as ‘attempts to study the organization of lan-guage above the sentence or above the clause; and therefore to study large linguistic units such as conversational exchanges or written texts’. He later notes that it also refers to ‘the study of naturally occurring language’ (ibid.: 9), pointing out that some writers such as Van Dijk have used the term text analysis, which could serve as well as discourse analysis (although text analysis implies a particular European tradition). While some discourse analysts focus on how meaning and structure are signalled in texts, others, especially since the early 1990s, have used discourse analysis more critically to examine issues relating to POWER, inequality and IDEOLOGY. All forms of discourse analysis, however, have tended to stress the importance of examining naturally occur-ring texts, even if methods of analysis, focus (e.g. the extent to which \\nINTERTEXTUALITY, methods of production and reception or socio-historical con-text is considered) and goals have differed. Burr (1995: 163) claims that the term is an ‘umbrella which covers a wide variety of actual research practices with quite different aims and theoretical backgrounds. All take language as their focus of interest’. Burr (1995: 163) implies that CONVERSATION ANALYSIS involves a form of discourse analysis, while it could also be argued that DISCUR-\\nSIVE PSYCHOLOGY, INTERACTIONAL SOCIOLINGUISTICS and all of the different strands of \\nCRITICAL DISCOURSE ANALYSIS are also forms of discourse analysis.\\nDiscourse analysis has mainly been a qualitative form of analysis; traditionally, it has involved a ‘close reading’ of a small amount of text, such as a detailed \\nTRANSCRIPTION of a conversation or a magazine article, although in more recent years, discourse analysts have begun to use quantitative or corpus-assisted methods on much larger sets of data (see CORPUS-ASSISTED DISCOURSE STUDIES). Focusing more on the ‘critical’ form of discourse analysis, adopted by social psychological research, Burr (1995: 160–161) points out that its central tenets include viewing research as a co-production between the researchers and those who are being researched, with an acknowledgement that objectivity is an impossibility. Instead, discourse analysts need to use REFLEXIVITY, with researchers reflecting on their own position and how that has impacted on the research process and findings.discourse-historical</td>\\    </tr>\\    <tr>\\      <th>57</th>\\      <td>discourse markers</td>\\      <td>\\nSometimes called discourse particles or pragmatic markers, the term is often used to refer to words or phrases that appear to have no grammatical or semantic function, such as you know, like, oh, well, I mean, actually, basically, OK as well as connectives like because, so, and, but and or. Schiffrin (1987: 31) defines them as ‘sequentially dependent elements which bracket units of talk’. While most discourse markers were ignored by early grammars as having empty meanings or being ‘fillers’, they were later acknowledged (par-ticularly by corpus linguists) as playing important roles in the organization of discourse and/or fulfilling pragmatic functions. For example, Aijmer (1996) points to two functional classes of discourse markers, local markers like I mean which help to mark micro structures, for example, within a single topic, and global markers like anyway, which can be used to signpost transition from one topic to another. Jucker and Smith (1998: 197) make a different distinction between reception markers, which signal speaker reactions to information provided by someone else (yeah, oh, ok, really), and presentation markers, which modify information presented by the speaker (like, you know, I mean). Rühlemann (2007: 121) makes a third distinction between present-discourse markers (which would include the above examples) and presented-discourse markers (which are used to manage reported speech: I goes, she was like). Andersen (1998) has shown that contrary to some arguments discourse markers do adhere to grammatical and functional restrictions and cannot occur anywhere in an utterance.\\nThe concept of discourse markers can be expanded to refer to nonlinguistic phenomena. For example, in speech, a rise in PITCH could be used to mark the start of a new topic. In addition, in writing, discourse can be organized with visual elements like paragraph spaces, subheadings etc.discourse</td>\\    </tr>\\    <tr>\\      <th>76</th>\\      <td>explanation</td>\\      <td>\\nUsually the final stage of critical discourse analysis, coming after the stages of \\nDESCRIPTION and INTERPRETATION. Fairclough (1995: 163) writes, ‘The object . . . of explanation is to portray a discourse as part of a social process . . . showing how it is determined by social structures and what reproductive effects discourses can cumulatively have on these structures, sustaining them or changing them’.</td>\\    </tr>\\    <tr>\\      <th>91</th>\\      <td>genre</td>\\      <td>\\nA genre refers to a categorization of a particular type of text or social practice. Such categorizations are normally subjective and can often be broken down into sub-genres. For example, the genre of fiction could be subdivided into historical, adventure, mystery, romance, spy, western and so on. Bakhtin (1986) refers to speech genres – socially specified ways of speaking or writing that people use, manipulate and combine together (such as university lecture, shopping list, gossip). Fairclough (1995: 14) defines a genre as ‘a socially rati-fied way of using language in connection with a particular type of social activity’ and later (2003: 26) refers to them as ‘different ways of (inter)acting discoursally’.\\nSwales (1990) uses the term pre-genre to refer to categories which are found across a range of different social practices – for example, narratives are pre-genres as they can occur as ‘stories’ in everyday conversation, in television reports, in client counselling and so on. In addition, Fairclough (2003: 68–69) notes that genres can be lifted out of particular networks of social practices from which they were originally developed. An interview, for example, can now be found as part of a range of different social practices: job interview, celebrity interview, political interview. He refers to such cases as disembedded genres. A situated genre, however, is one which is specific to a certain net-work of practice.54 hegemonic femininity</td>\\    </tr>\\    <tr>\\      <th>94</th>\\      <td>hegemony</td>\\      <td>\\nA term popularized by Gramsci (1971, 1985), who theorized that it involves the exercise of POWER, whereby everybody in a society acquiesces in one way or another to a dominant person or social group. It could be the case that dominated people are not fully aware of their status or have been convinced that it is the natural state of affairs, or they accept their position because they receive some form of benefit from it. Gramsci applied the concept of hege-mony to early twentieth century politics in order to explain why a socialist revolution, predicted by Marxism, had not occurred. He suggested that it was because power was maintained, not just through physical and economic coercion but through IDEOLOGY: The values of the bourgeoisie (the powerful class) had become established in wider society as commonsense values, applic able to everybody. Therefore, a culture of consensus had developed, whereby even people who belonged to the lower classes helped to maintain the status quo because they also identified with bourgeois values. Hegemonyis thus maintained through the manufacture of consent. The dominant acquire the consent of the dominated to the point where those who are dominated see the world from the point of view of the dominant. Theymisrecognize power and recognize it as legitimate. Van Dijk (1997: 19) argues that consensus can be discursively established via ‘hegemonic power’.</td>\\    </tr>\\    <tr>\\      <th>98</th>\\      <td>ideology</td>\\      <td>\\nIdeology can generally be thought of as the set of ideas, beliefs and aims that a person or group holds. Fairclough (1992: 87), drawing on Althusser (1971), views ideologies as ‘constructions of reality . . . which are built into various dimensions of the forms/meanings of discursive practices, and which contribute to the production, reproduction or transformation of relations of domination’. Language is one way that ideologies are constructed, main-tained and challenged. Fairclough (1992: 88–89) notes that it is not possible to ‘read off’ ideologies from texts because ‘meanings are produced through interpretations of texts’.</td>\\    </tr>\\    <tr>\\      <th>109</th>\\      <td>interdiscursivity</td>\\      <td>\\nA term used by Foucault (1972) and also adopted in CRITICAL DISCOURSE ANALYSIS by Fairclough (1995: 134–135) to refer to the ‘constitution of a text from diverse discourses and genres’. Fairclough’s use of the term is inspired by and related to the concept of INTERTEXTUALITY and is sometimes referred to as ‘constitutive intertextuality’ (Fairclough 1992: 124). Interdiscursivity can involve the way that some genres or structures associated with genres seem to ‘seep into’ others – for example, Fairclough (1995: 135–166) describes how promotional discourses (associated with marketing or advertising) occur in university prospectuses and newspaper advertisements for university lectureships (an advert for a job also functions as an advert for a university’s own achievements). See also COLONIZATION.\\nInterdiscursivity can also refer to identifying relationships between discourses. For example, a discourse which constructs women as emotional may be a smaller part of the higher order ‘gender differences’ discourse.</td>\\    </tr>\\    <tr>\\      <th>110</th>\\      <td>interpretation</td>\\      <td>\\nA stage of CRITICAL DISCOURSE ANALYSIS, which generally comes between \\nDESCRIPTION and EXPLANATION. To illustrate,\\nCurbs fail to halt flood of refugees. (BNC, A4H)\\nFor the above example, the descriptive stage of the analysis would identify a water metaphor ‘flood’ being used to refer to refugees. The interpretative stage of analysis might then focus on asking ‘what does this metaphor mean, what is it being used to achieve?’ We could say, for example, that the water metaphor has the effect of representing refugees as an out-of-control, unwanted disaster as well as presenting them as a collective, indistinguish-able, dehumanized mass. The interpretation of this metaphor is that the writer intends to represent refugees in a negative way. The explanation stage would then try to focus more on the wider social context, asking why refugees are being represented in this way and what consequences this may have for society and various groups in it.interpretative  \\nSo interpretation is generally generated through a combination of what is in a text and the analyst’s interpretative procedures (also called members’ resources). Fairclough (1989: 142) lists six types of interpretative procedures which each result in different yet related types of interpretation: (1) social orders; (2) interactional history; (3) phonology, grammar, vocabulary; (4) semantics, pragmatics; (5) cohesion, pragmatics and (6) schemata. For example, interactional history results in the analyst referring to intertextual context – how do text producers orient to existing discourses which are ‘out there’ in other texts, and what do they assume that the reader already knows? Interpretations can be problematic in that they depend on the perspective of the researcher. McKee (2003: 66), for example, asks whether there ‘must be a correct interpretation of each text’. A reflexive analysis would try to identify the range of possible interpretations instead.</td>\\    </tr>\\    <tr>\\      <th>113</th>\\      <td>intertextuality</td>\\      <td>\\nA term coined by Julia Kristeva in 1966 (see Moi 1990) which refers to the ways that texts refer to or incorporate aspects of other texts within them. This can take many forms, for example, parodies, retellings, sampling, direct refer-ence or quotation and allusions. It is often only possible to make sense of a text by fully understanding how it refers to other texts. For example, Martin Luther King’s famous ‘I Have a Dream’ speech incorporates a great deal of intertextuality. He refers to Abraham Lincoln’s Gettysburg Address by using the phrase ‘Five score years ago’ as well as adopting quotes from the Bible, Shakespeare and the United States Declaration of Independence. The concept has been adopted, particularly within CRITICAL DISCOURSE ANALYSIS (see Fairclough 1989: 55, 1995: 187–213), as an aspect of considering the wider (historical and social) context of a text under analysis. Fairclough (1992: 117) makes a distinction between ‘manifest intertextuality’, which involves using actual content from one text in another, and constitutive intertextuality’, which involves using structures from existing texts (this latter type is sometimes referred to as INTERDISCURSIVITY). See also POSTMODERNISM.</td>\\    </tr>\\    <tr>\\      <th>120</th>\\      <td>lexical cohesion</td>\\      <td>\\nA way of achieving COHESION by way of repeating the same word or phrase or using chains of related words that contribute towards the continuity of lexical meaning: ‘Each day she had gone with Tom and Peter or just with Tom down into the Underground and played her violin’ (BNC, EDN). In the above example, Tom is repeated a second time, in order to make it clear who is being referred to. A pronoun like him would have been ambiguous. In other cases of lexical cohesion, a related word can occur in place of the original reference: ‘Father Death climbs the tree to gather a rosy apple but directly he touches the fruit he is caught’ (BNC, HH3). Here, apple is later referred to by the superordinate category fruit. Another type of lexical cohesion involves repetition of another member of a semantic category: ‘To the right, a brick-red dune stood alone among golden yellow ones’ (BNC, AT3). Here, brick-red and golden yellow both belong to the category of colours.70 Mediated Discourse Analysis (MDA)</td>\\    </tr>\\    <tr>\\      <th>125</th>\\      <td>modality</td>\\      <td>\\nWays of expressing possibility (epistemic modality) or necessity (deontic modality), as the two examples below, respectively, show:\\n‘You must be out of your mind,’ Nick said. (BNC, EFJ)\\nYou must promise me that this will be our little secret. (BNC, JXS)\\nModality can be expressed via a set of verbs known as modal verbs, including should, would, will, could, can, may, must and shall. In addition, ‘semi-mo-dals’ such as have to, need to and want to are increasingly used to express modality (Leech 2002). Modal adverbs include perhaps, probably, necessarily and inevitably.\\nAspects of modality are sometimes focused on in CRITICAL DISCOURSE ANALYSIS, particularly because modal verbs often highlight POWER inequalities or \\nIDEOLOGY – deontic modality can be used to express authority, whereas epistemic modality can construct different representations of the world.72 moral panic</td>\\    </tr>\\    <tr>\\      <th>128</th>\\      <td>national identity</td>\\      <td>\\nNational identity is a concept that is built around the idea of the nation state. According to Barker and Galasinski (2001: 123), a nation state refers to the political and administrative apparatus that has a claim of ‘sovereignty over a space or territory’. Wodak et al. (2009: 3) point out that the concept of IDENTITY in general and national identity in particular is ‘context dependent and dynamic’. Thus there are different constructs of national identity, and these depend on the society or nation concerned. Every nation state discursively constructs its own identity, although such identities are ‘malleable, fragile, and frequently ambivalent and diffuse’ (Wodak et al. 2009: 4). For example, one way of constructing national identity could be geographical, being delineated by boundaries separating different countries. Alternatively, it could be ethnic; for example, a certain ethnic group may be discursively constructed as the legit-imate ‘nation’ of a particular geographical ‘country’. Wodak et al. (2009) identify a number of assumptions which inform their conceptualization of 74 nationalist discourse\\nnational identities. First, nations are ‘IMAGINED COMMUNITIES which nationalized political subjects perceive as discrete entities’ (ibid.: 3, see also Barker and Galasinski 2001). Secondly, national identities are special forms of social identities which are produced, reproduced and transformed through dis-course. Thirdly, national identity involves a complex of ‘similar . . . perceptual schemata . . . emotional dispositions and attitudes, and of similar behavioural conventions which bearers of this “national identity” share collectively and which they have internalized through socialisation’ (Wodak et al. 2009: 4). According to Barker and Galasinski (2001: 124), ‘The symbolic and discursive dimension of national identity narrates and creates the idea of origin, continuity and tradition’. Members of a certain ‘national identity’ also share certain attitudes and emotional dispositions towards those they consider to be outsiders. Therefore, national identity is constructed as unified, being created through symbols, images and rituals that represent the shared meanings of nationhood (ibid.).</td>\\    </tr>\\    <tr>\\      <th>135</th>\\      <td>non-discursive</td>\\      <td>\\nThe term non-discursive refers to social processes that are said to not involve the use of discourse. Eagleton (1991: 219) makes a distinction between practices and discourses, noting that there is a difference between giving a sermon and taking a pebble from your left ear. The latter is more likely tobe a non-discursive practice. Discursive practices are shaped by the non-discursive dimensions of social practice and vice versa and are therefore said to be in a dialectical relationship (Fairclough 1992). However, other discourse theorists see all social practices as discursive (Laclau and Moufe 1985), which means that discursive practices are fully constitutive of the social world.nonverbal</td>\\    </tr>\\    <tr>\\      <th>137</th>\\      <td>nonverbal communication</td>\\      <td>\\nThe use of non-oral language to communicate. Examples include ‘body language’ (hand gestures, posture, touch) and sign language. Nonverbal communication also can be achieved through facial expressions, eye contact (or lack of it) or via styling choices such as clothing or hairstyles. Aspects of speech such as tone, speed, volume, stress, rhythm and so on can be viewed as nonverbal, while in writing, nonverbal elements could include phenomena such as the colour of the ink or the handwriting style used. SILENCE could also be viewed as a form of nonverbal communication.</td>\\    </tr>\\    <tr>\\      <th>139</th>\\      <td>normalization of discourse</td>\\      <td>\\nNormalization of discourse refers to ways that certain discourses, practices and identities are constructed as normal (see also NATURALIZATION). This can sometimes result in existing discourses being challenged. For example, Tasker (2004, 2005) conducted a study of lesbian and gay parenting texts and found that there are often similarities drawn between heterosexual and gay parent-ing. They argue that such similarities indicate a tendency to construct gay parenting along the lines of heterosexual parenting in order to ‘normalize’ gay parenting. The discourse used to construct gay parenting this way can therefore be said to be a normalization of gay parenting discourse.</td>\\    </tr>\\    <tr>\\      <th>150</th>\\      <td>order of discourse</td>\\      <td>\\nA term coined by Foucault (1971, 1984). Fairclough (1992: 43, 1993: 138) defines order of discourse as the ‘totality of discursive practices in an institu-tion and the relationships between them’. He later describes an order of discourse as ‘a particular combination of genres, discourses and styles which constitutes the discoursal aspect of a network of social practices . . . In general terms [they are] . . . the social structuring of linguistic variation or difference – there are always many different possibilities in language, but choice amongst them is socially structured’ (Fairclough 2003: 220).</td>\\    </tr>\\    <tr>\\      <th>160</th>\\      <td>participants</td>\\      <td>\\n1.  Human participants are people who take part in a social activity. In discourse analysis research that could involve acting as a subject – for example, interview participants are the people who are reviewed by a researcher.2.  In grammatical theory, participants are components of a clause. In English clauses, for instance, there are three components: the participants, the process and the circumstances.\\n[Sasha] [arrived] [yesterday afternoon]\\nIn the example above, ‘Sasha’ is the participant in the clause, ‘arrived’ is the process and ‘yesterday afternoon’ describes the circumstances in which the process takes place.\\nThe participants in a clause are used to represent participants in real life, but this does not necessarily mean that language users always represent every partici-pant in an explicit or equal way. Some participants may be represented as active while others could be passive or excluded (see PASSIVE AGENT DELETION).</td>\\    </tr>\\    <tr>\\      <th>184</th>\\      <td>post-structuralism</td>\\      <td>\\nPost-structuralism is a movement, related to POSTMODERNISM, which is con-cerned with ‘critiquing the ways in which competing forms of knowledge and the power interests these serve, aspire to fix meaning once and for all’ 98 post-structuralist discourse analysis\\n(Baxter 2003: 23; see also Laclau and Mouffe 1985). According to post-structuralism, meaning or reality is discursively constructed. In linguistics, post-structuralism signifies a shift from constructing meanings in terms of binary opposites. Structuralists, such as Saussure, have argued that linguistic signs are composed of two parts – a signifier (such as written word or a col-lection of sounds) and a signified (the concept or meaning that is referenced by the signifier). Saussure argued that the relationship between the two was arbitrary yet fixed. However, in the view of post-structuralists, ‘social meanings are continuously negotiated and contested through language and discourse’ (Baxter 2003: 23–24). Derrida (1978), for example, claims that in addition to the signifieds acquiring meaning though their difference with others, they also have the identity of deferral, which means that the meaning of any representation can only be fixed temporarily because it depends on the discursive context in which the signifieds are located. In other words, mean-ings are not eternally fixed but are discursively constructed and can thus shift over time. Post-structuralists have problematized the notion of a stable self, arguing that individuals hold multiple, changing and interacting IDENTITY traits (social class, age, gender, sexuality, ethnicity) and that any form of knowledge making (such as text analysis) requires the analyst to take into account how such identity traits impact on the process of analysis. In addition, post-structuralists reject the idea that a text has a single ‘true’ reading or meaning, instead advocating that each reader constructs his or her own reading (or set of readings), which all have validity.</td>\\    </tr>\\    <tr>\\      <th>185</th>\\      <td>post-structuralist discourse analysis</td>\\      <td>\\nPost-structuralist discourse analysis (or PDA) is an approach to discourse analysis that focuses on ‘what is happening right now, on the ground, in this very conversation’ (Baxter 2002: 828, quoting from Wetherell 1998: 395). Baxter claims that PDA is concerned with ‘the continuously fluctuating ways in which speakers, within any discursive context, are variously positioned as powerful or powerless by competing social and institutional discourses’ (ibid.). For PDA, the object of discourse analysis is not so much to find closure to meanings but rather to highlight the ‘diverse viewpoints, contradictory voices and fragmented messages’ (ibid.) that are represented in spoken data. As a result, no discourse can be said to be completely dominant as language in  \\ninteraction shows a continuous flux, with individual speakers being powerful at one point and powerless at another (see also Baxter 2008).</td>\\    </tr>\\    <tr>\\      <th>186</th>\\      <td>power</td>\\      <td>\\nPower is our ability to control our environment, our own lives and those of others. The German sociologist Max Weber (1925: 28) gave a much-quoted definition of power (Macht), which according to Kronman (1983: 38) trans-lates to ‘the probability that one actor within a social relationship will be in a position to carry out his [sic] own will despite resistance, regardless of the basis on which this probability rests’. Foucault (1979b) contrasts sovereign power with disciplinary power or what Fairclough (1989: 33) similarly formu-lates as coercion or consent. The former is exercised by the state or sovereign, who had the power to punish, coerce or kill people. Disciplinary power, on the other hand, is a way of ensuring that people exercise self-control or sub-mit to the will of ‘experts’. For Foucault, disciplinary power is a much more efficient method of control than sovereign power, and this has become the main form of power that most people in western societies tend to encounter in their day-to-day lives. Talbot (1998: 193) points out, ‘Real social power does not reside in big muscles . . . Power resides elsewhere: in being at the head of a corporation, a general leading an army, a senator or an MP’.\\nCritical discourse analysts have tended to focus on how disciplinary power is created, maintained and challenged. For example, Fairclough (1995: 1), fol-lowing Foucault, defines power not only as asymmetries that exist between individuals participating in the same discursive event but also in terms of how people have different capacities to control how texts and thus discourses are produced, distributed and consumed. Van Dijk (1996: 85) notes that ‘social power and dominance are often organised and institutionalised, so as to allow more effective control and to enable routine forms of power reproduction’. This means that power is successful precisely because it is reenacted in routine activities which are not questioned but instead seen as normal (see HEGEMONY).\\nPower is linked to discourse because discourses are ways of representing and constructing reality so that power relations are constructed, maintained and contested via discourses. It is because of the link to discourse that power  \\nrelations are never static. The inverse of power is RESISTANCE (see also STRUGGLE, \\nSUBVERSION). As discourses compete for ascendancy, formerly dominant dis-courses may be challenged, and even replaced, by formerly marginal discourses resulting in a shift in power relations as well as social change.\\nPower is not necessarily a bad thing – for example, a student and teacher are obviously in an asymmetrical power relationship, although here the relation-ship is usually (hopefully) beneficial rather than detrimental to the student. Indeed, some critical discourse analysts have focused on cases of abuses of power, for example, where power has harmful consequences, while POSITIVE \\nDISCOURSE ANALYSIS focuses on cases where the power utilized by text holders is used for good. A post-structuralist view of power is that it is connected to human agency and that no one individual is placed as powerful across all discourses. Thus, one can be powerful in one context and powerless in another (see also Baxter 2003).</td>\\    </tr>\\    <tr>\\      <th>191</th>\\      <td>prejudiced discourse</td>\\      <td>\\nPrejudiced discourse is discourse that shows evidence of discrimination against a particular social group. Common examples of prejudiced discourse involve  \\ndiscrimination based on ethnicity, race, sex, sexual orientation. While such a discourse may show evidence of discrimination against one group, it can also show favour for another, usually more dominant social group. See Van Dijk (1984).</td>\\    </tr>\\    <tr>\\      <th>195</th>\\      <td>processes</td>\\      <td>\\nIn his SYSTEMIC FUNCTIONAL GRAMMAR, Halliday (1994: 106) writes,\\nOur most powerful impression of experience is that it consists of “goings-on” – happening, doing, sensing, meaning, and being and becoming. All these goings-on are sorted out in the grammar of the clause. Thus as well as being a mode of action, of giving and demanding goods-&amp;-services and information, the clause is also a mode of reflection, of imposing order on the endless variation and flow of events. The grammatical system by which this is achieved is TRANSITIVITY. The trans-itivity system construes the world of experience into a manageable set of PROCESS TYPES.\\nA transitivity process consists of three elements – the process itself (repre-sented by verbs), the participants (represented by nominals) and the circumstances (represented by adverbials or prepositional phrases). See \\nPROCESS TYPES, TRANSITIVITY.</td>\\    </tr>\\    <tr>\\      <th>196</th>\\      <td>process types</td>\\      <td>\\nProcesses are aspects of TRANSITIVITY. Processes represented in the clause are processes of doing, being, meaning, becoming and so on. Halliday (1994) identifies six process types (three main and three secondary). The main types are (1) material processes (processes of doing), (2) mental processes (processes of sensing) and (3) relational processes (processes of being). The three secondary processes appear at the boundaries between the main process types. So (4) behavioural processes appear between material and mental processes, (5) verbal processes border the mental and relational and (6) existential processes border the relational and material. Behavioural and existential processes only have one participant, while the other processes may have one or two. A process that has one participant can take an intransitive verb, whereas processes with two participants make use oftransitive verbs. \\nFor example, material processes are represented as active sentences and can take both transitive and intransitive verbs, for example,\\nJoseph is kicking a ball (transitive – two participants: Joseph and a ball).Joseph is running (intransitive – one participant: Joseph)\\nMental processes are always attributed to ‘human or human-like’ participants who do the sensing. The SUBJECT and the theme often coincide, which results in the use of personal pronouns and a tendency to be realized as passive clauses:\\nI am worried by your silence.\\nRelational processes are represented as attributive or existential patterns and can be realized in three types of clauses:\\n1. Intensive: I am tired2. Circumstantial: I am in my forties3. Possessive: I have two children. (Halliday 1985: 119)\\nThe choice of representational clause (whether it is transitive or intransitive for material processes) for a real-life process may be ideologically or culturally significant. In addition, a consistent choice of mental processes in repres-entation may indicate a writer/speaker’s perceptions rather than an objective account of events.</td>\\    </tr>\\    <tr>\\      <th>197</th>\\      <td>production</td>\\      <td>\\nProduction refers to processes that are involved in the creation of a TEXT. As with analysis of RECEPTION, analysis of text production can be one stage of CRITICAL DISCOURSE ANALYSIS (Fairclough 1989: 24–26). Analysts may ask questions such as under what circumstances was a text produced, who produced it, for what purposes and what constraints were placed on the production of the text (e.g. was censorship involved).106 promotional culture\\nText production takes place within a specific discursive practice, which is one aspect of social practice. For example, the production of a newspaper text takes place with the discursive practices of news production within the main social practice of the media as an industry. Text production involves processes based on internalized social structures and conventions. Therefore, the production of each text is constrained by the social conventions within which it is produced.</td>\\    </tr>\\    <tr>\\      <th>213</th>\\      <td>register</td>\\      <td>\\nA register is a specialized code or variety of language associated with a spe-cific social practice and designed to serve a specific social goal. It consists of distinctive linguistic patterns (vocabulary, grammar, phonology etc.) which have become conventionalized and are relatively durable. Other terms such as \\nGENRE or dialect have sometimes been used in similar ways to register. Halliday and Hasan (1985: 41) differentiate dialects from registers by saying that the former concept is ‘a variety of language according to the user’, while the lat-ter is ‘a variety according to use’, and it reflects ‘the different types of social activity that people commonly engage in’. So as register tends to be based on the use rather than the user of language, variation according to geographical location and demographic categories are not included under register.\\nExamples of registers include medical interviews, lab reports, weather reports and newspaper editorials. However, registers should be seen as a spectrum of varieties of language rather than clear distinctive varieties. There is no clear boundary between one register and another. Biber et al. (1998) used corpus approaches to identify distinctions between a range of different written and spoken registers, noting that each register could be classified as appearing on a five linear scales or ‘dimensions’: (1) involved versus informational production, (2) narrative versus non-narrative discourse, (3) elaborated versus situation-dependent reference, (4) overt expression of argumentation and (5) impersonal versus non-impersonal style. For example, telephone conversations occur at the ‘involved’ end of dimension 1 (speakers use this register to express involvement with the hearer, rather than give a great deal of information). On the other hand, official documents are informational rather than involved. However, for dimension 2, both telephone conversa-tions and official documents are ‘non-narrative’ rather than narrative (e.g. they do not tend to involve lengthy descriptions of past tense events).</td>\\    </tr>\\    <tr>\\      <th>216</th>\\      <td>repair</td>\\      <td>\\nRepair is a term used in CONVERSATION ANALYSIS to refer to patterns of naturally occurring conversation where a speaker needs to repeat or reformulate part of his/her utterance in order to ‘correct’ what he/she had previously said. This can often occur when one or more participants has difficulty with speaking, hearing or understanding. Repair can involve self-repair, or another speaker can attempt to clarify or correct the first speaker’s utterance. Repair can also be marked by features such as REPETITION, PAUSES or hesitation markers such as er or erm.\\nI think probably that was probably London but in the north I lived on the north east coast in a very small town and some of I mean my memories are quite different in a way. (BNC, D90)\\nIn the above example, from a conversation, the speaker engages in self-repair after the word probably, ‘that was probably’, in order to correct his grammar.</td>\\    </tr>\\    <tr>\\      <th>230</th>\\      <td>rheme</td>\\      <td>\\nA distinction can be made between a THEME, which constitutes a topic, and the rheme, which is what is said about the topic (sometimes called the focus). Although the distinction dates back to the nineteenth century, it was used by Halliday in his SYSTEMIC FUNCTION LINGUISTICS.scare</td>\\    </tr>\\    <tr>\\      <th>273</th>\\      <td>structuralism</td>\\      <td>\\nStructuralism is an intellectual movement in which all phenomena are viewed as having inherent underlying structures or systems. In linguistics, structural-ism is associated with the Swiss linguist Ferdinand de Saussure who viewed language as having an underlying structure. Structuralists tended to focus on the structure of language at a particular moment in time (synchronically), rather than looking at how and why languages change (diachronically). They also viewed SIGNS as deriving meaning through differences to other signs, especially in relation to binary opposites. For example, we understand what is meant by the term woman by comparing it to what it is not – man. Similarly white is not black, good is not bad and so on. Structuralism has been criticized, especially by discourse analysts (see Baxter 2003, 2008) who argue that seeing the meaning of concepts as consisting of binary opposites tends to set up one of the concepts as the norm and the other as deviant or derivative. Structuralism has also been criticized for being asocial as it tends not focus on the way language is actually used by its speakers.</td>\\    </tr>\\    <tr>\\      <th>294</th>\\      <td>theme</td>\\      <td>\\nThe ‘topic’ of a particular stretch of discourse, as opposed to what is said about the topic (the RHEME). There are several ways of defining themes – for example, we could say that the SUBJECT is also the theme, or we could focus on the position of the theme within a stretch of discourse. A distinction can be made between themes at the level of discourse and at the level of clause:\\nThe house was full of little flights of steps where he least expected them. There were many dark, stained rooms. ‘I would have had it done,’ said the owner, a small, pale woman, ‘but I’m selling up to go and live with my sister and it didn’t seem worth it’. (BNC, A0R)\\nHere, the theme at the discourse level is ‘the house’. The rheme is therefore everything that comes after the first two words as the entire paragraph is about ‘the house’. However, we could also point to an additional ‘local’ theme ‘the owner’ which is established at the level of the sentence, along with a local rheme ‘a small pale woman’. Despite this, the discourse-level theme continues to be the ‘The house’ as the owner is continuing to talk aboutthe house.</td>\\    </tr>\\    <tr>\\      <th>298</th>\\      <td>triangulation</td>\\      <td>\\nTriangulation refers to the use of multiple approaches to research. This could involve data – for example, collecting data from different sources, or using different methods of data collection (focus groups, interviews, questionnaires) 154 truth conditions\\nor it could involve using different methods of analysis (e.g. corpus analysis vs. a close qualitative analysis). The term originates from geometry and land surveying, where an accurate view is obtained from looking at things from two or more positions. Layder (1993: 128) points out several advantages of triangulation: It facilitates validity checks of hypotheses, it anchors findings in more robust interpretations and explanations, and it allows the researcher to respond flexibly to unforeseen problems and aspects of the research.\\nDiscourse-based social research advocates the use of triangulation. For example, Reisigl and Wodak (2001: 35) state,\\nOne methodological way for critical discourse analysis to minimise the risk of critical biasing and to avoid simply politicising, instead of accurately analysing, is to follow the principle of triangulation [. . . and] endeavour to work interdisciplinarily, multimethodically and on the basis of a variety of empirical data as well as background information.</td>\\    </tr>\\  </tbody>\\</table>';</script>"
      ],
      "text/plain": [
       "<IPython.core.display.HTML object>"
      ]
     },
     "execution_count": 24,
     "metadata": {},
     "output_type": "execute_result"
    }
   ],
   "source": [
    "from IPython.display import HTML\n",
    "s  = '<script type=\"text/Javascript\">'\n",
    "s += 'var win = window.open(\"\", \"Title\", \"toolbar=no, location=no, directories=no, status=no, menubar=no, scrollbars=yes, resizable=yes, width=780, height=200, top=\"+(screen.height-400)+\", left=\"+(screen.width-840));'\n",
    "s += 'win.document.body.innerHTML = \\'' + result_df.to_html().replace(\"\\n\",'\\\\') + '\\';'\n",
    "s += '</script>'\n",
    "\n",
    "# Show in new Window\n",
    "HTML(s)"
   ]
  },
  {
   "cell_type": "code",
   "execution_count": 31,
   "metadata": {},
   "outputs": [],
   "source": [
    "with open('result.txt', 'w', encoding = 'utf-8') as f:\n",
    "    for i in range(df.shape[0]):\n",
    "        f.write(df.header[i])\n",
    "        f.write(df.body[i])\n",
    "        f.write('\\n')"
   ]
  },
  {
   "cell_type": "code",
   "execution_count": 32,
   "metadata": {},
   "outputs": [],
   "source": [
    "from docx import Document\n",
    "from docx.shared import Inches\n",
    "\n",
    "document = Document()\n",
    "\n",
    "for i in range(df.shape[0]):\n",
    "    document.add_heading(df.header[i], 0)\n",
    "    document.add_paragraph(df.body[i])\n",
    "document.save('result.docx')"
   ]
  }
 ],
 "metadata": {
  "kernelspec": {
   "display_name": "Python 3",
   "language": "python",
   "name": "python3"
  },
  "language_info": {
   "codemirror_mode": {
    "name": "ipython",
    "version": 3
   },
   "file_extension": ".py",
   "mimetype": "text/x-python",
   "name": "python",
   "nbconvert_exporter": "python",
   "pygments_lexer": "ipython3",
   "version": "3.8.3"
  }
 },
 "nbformat": 4,
 "nbformat_minor": 4
}
