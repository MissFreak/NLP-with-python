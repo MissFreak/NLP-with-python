{
 "cells": [
  {
   "cell_type": "markdown",
   "metadata": {},
   "source": [
    "![TextRank](https://miro.medium.com/max/1050/1*JeYlqJTA5MpKsaWwHkhKQw.jpeg)\n",
    "https://towardsdatascience.com/textrank-for-keyword-extraction-by-python-c0bae21bcec0"
   ]
  },
  {
   "cell_type": "markdown",
   "metadata": {},
   "source": [
    "# 有向无权图"
   ]
  },
  {
   "cell_type": "markdown",
   "metadata": {},
   "source": [
    "将文本中的词语作为节点（顶点集$V$），词语之间的邻接关系作为边（边集$E$，其中$E$是$V\\times V$的子集），构成有向图，即词图。词图本质上为一个二元组。对于给定的顶点$V{i}$，$\\operatorname{In}\\left(V_{i}\\right)$是指向它的顶点集（前置），而$Out\\left(V_{i}\\right)$ 是顶点$V{i}$指向的顶点集（后继）。$TextRank$是词图当中度量词语重要性的主要方法，该方法以迭代方式按照以下公式计算节点 $v_i$的重要性：\n",
    "\n",
    "$$\n",
    "S\\left(V_{i}\\right)=(1-d)+d * \\sum_{j \\in I n\\left(V_{i}\\right)} \\frac{1}{\\left|O u t\\left(V_{j}\\right)\\right|} S\\left(V_{j}\\right)\n",
    "$$\n",
    "\n",
    "其中，$S (v_j)$表示节点 $v_j$的重要性得分；$d$ 为阻尼系数(damping factor)，通常取值为 0.85，在公式中表示任意时刻都有 $1 - d$ 的概率由当前节点随机跳转到词图中的其他节点之上。当计算收敛之后，$S (v_i) $值可以表示节点$ v_i$在词图中的重要性。"
   ]
  },
  {
   "cell_type": "markdown",
   "metadata": {
    "cell_style": "split"
   },
   "source": [
    "<img src=\"Graph.png\" width=\"300\" height=\"100\">"
   ]
  },
  {
   "cell_type": "markdown",
   "metadata": {
    "cell_style": "split"
   },
   "source": [
    "图中这个例子，Vi的重要性由指向它的Vj（V1和V2）的重要性决定，同时分母要平衡这些节点跳转到其他节点的可能性。\n",
    "\n",
    "阻尼系统代表异常情况，不按照我们的模型走。\n",
    "\n",
    "$$\n",
    "S\\left(V_{i}\\right)=(1-d)+d *(\\frac{1}{\\left|Out\\left(V_{1}\\right)\\right|} S\\left(V_{1}\\right))+\\frac{1}{\\left|Out\\left(V_{2}\\right)\\right|} S\\left(V_{2}\\right)))\n",
    "$$\n",
    "\n",
    "其中，${\\left|Out\\left(V_{1}\\right)\\right|} = 2$, ${\\left|Out\\left(V_{2}\\right)\\right|} = 3$\n"
   ]
  },
  {
   "cell_type": "markdown",
   "metadata": {},
   "source": [
    "# 有向带权图"
   ]
  },
  {
   "cell_type": "markdown",
   "metadata": {
    "cell_style": "split"
   },
   "source": [
    "不同于PageRank，TextRank是自然语言文本，存在更复杂的内部结构，因此可能需要将两个顶点之间连接的“强度”纳入模型。\n",
    "\n",
    "因此带权的重要性值表示为：\n",
    "\n",
    "$$\n",
    "W S\\left(V_{i}\\right)=(1-d)+d * \\sum_{V_{j} \\in I n\\left(V_{i}\\right)} \\frac{w_{j i}}{\\sum_{V_{k} \\in \\operatorname{Out}\\left(V_{j}\\right)} w_{j k}} W S\\left(V_{j}\\right)\n",
    "$$\n",
    "\n",
    "除了词语，各种大小和特征的文本单元可以添加为图形中的顶点，例如单词、短语、句子甚至篇章，并且在任意两个顶点之间绘制连接的关系类型，例如词汇或语义关系、上下文重叠等。"
   ]
  },
  {
   "cell_type": "markdown",
   "metadata": {
    "cell_style": "split"
   },
   "source": [
    "<img src=\"Graph2.png\" width=\"300\" height=\"100\">"
   ]
  },
  {
   "cell_type": "markdown",
   "metadata": {},
   "source": [
    "# 算法主要步骤"
   ]
  },
  {
   "cell_type": "markdown",
   "metadata": {},
   "source": [
    "基于图的排序算法在自然语言文本中的应用包括以下主要步骤：\n",
    "\n",
    "1.确定最能定义手头任务的文本单元，并将它们作为图中的顶点。\n",
    "\n",
    "2.确定连接这些文本单元的关系，并使用这些关系在图中的顶点之间绘制边。边可以是有向的或无向的、加权的或无权的。\n",
    "\n",
    "3.迭代基于图的链接算法直到收敛。\n",
    "\n",
    "4.根据它们最后的得分排序并指导决策。"
   ]
  },
  {
   "cell_type": "markdown",
   "metadata": {},
   "source": [
    "# 代码库"
   ]
  },
  {
   "cell_type": "code",
   "execution_count": 9,
   "metadata": {},
   "outputs": [],
   "source": [
    "text = \"\"\"Automatic summarization is the process of reducing a text document with a \\\n",
    "computer program in order to create a summary that retains the most important points \\\n",
    "of the original document. As the problem of information overload has grown, and as \\\n",
    "the quantity of data has increased, so has interest in automatic summarization. \\\n",
    "Technologies that can make a coherent summary take into account variables such as \\\n",
    "length, writing style and syntax. An example of the use of summarization technology \\\n",
    "is search engines such as Google. Document summarization is another.\"\"\""
   ]
  },
  {
   "cell_type": "code",
   "execution_count": 6,
   "metadata": {},
   "outputs": [
    {
     "name": "stdout",
     "output_type": "stream",
     "text": [
      "Automatic summarization is the process of reducing a text document with a computer program in order to create a summary that retains the most important points of the original document.\n"
     ]
    }
   ],
   "source": [
    "from summa import summarizer\n",
    "print(summarizer.summarize(text))"
   ]
  },
  {
   "cell_type": "code",
   "execution_count": 10,
   "metadata": {},
   "outputs": [
    {
     "name": "stdout",
     "output_type": "stream",
     "text": [
      "document\n",
      "automatic summarization\n",
      "technologies\n",
      "technology\n"
     ]
    }
   ],
   "source": [
    "from summa import keywords\n",
    "print(keywords.keywords(text))"
   ]
  },
  {
   "cell_type": "code",
   "execution_count": null,
   "metadata": {},
   "outputs": [],
   "source": [
    "import spacy\n",
    "import pytextrank\n",
    "\n",
    "# example text\n",
    "text = \"Compatibility of systems of linear constraints over the set of natural numbers. Criteria of compatibility of a system of linear Diophantine equations, strict inequations, and nonstrict inequations are considered. Upper bounds for components of a minimal set of solutions and algorithms of construction of minimal generating sets of solutions for all types of systems are given. These criteria and the corresponding algorithms for constructing a minimal supporting set of solutions can be used in solving all the considered types systems and systems of mixed types.\"\n",
    "\n",
    "# load a spaCy model, depending on language, scale, etc.\n",
    "nlp = spacy.load(\"en_core_web_sm\")\n",
    "\n",
    "# add PyTextRank to the spaCy pipeline\n",
    "tr = pytextrank.TextRank()\n",
    "nlp.add_pipe(tr.PipelineComponent, name=\"textrank\", last=True)\n",
    "\n",
    "doc = nlp(text)"
   ]
  },
  {
   "cell_type": "code",
   "execution_count": 15,
   "metadata": {},
   "outputs": [
    {
     "name": "stdout",
     "output_type": "stream",
     "text": [
      "minimal generating sets\n",
      "systems\n",
      "linear Diophantine equations\n"
     ]
    }
   ],
   "source": [
    "# examine the top-ranked phrases in the document\n",
    "for p in doc._.phrases[:3]:\n",
    "    #print(\"{:.4f} {:5d}  {}\".format(p.rank, p.count, p.text))\n",
    "    print(p.chunks[0])"
   ]
  },
  {
   "cell_type": "code",
   "execution_count": 28,
   "metadata": {},
   "outputs": [],
   "source": [
    "import pandas as pd\n",
    "df = pd.read_excel('example.xlsx')\n",
    "text = df['标题'].to_string(index=False)"
   ]
  },
  {
   "cell_type": "code",
   "execution_count": 42,
   "metadata": {},
   "outputs": [],
   "source": [
    "df = pd.read_csv('https://raw.githubusercontent.com/iamxiatian/keyphrase/master/data/paper_abstract.csv')"
   ]
  },
  {
   "cell_type": "code",
   "execution_count": 51,
   "metadata": {},
   "outputs": [],
   "source": [
    "text = df['摘要'][1]"
   ]
  },
  {
   "cell_type": "code",
   "execution_count": 52,
   "metadata": {},
   "outputs": [],
   "source": [
    "import codecs\n",
    "from textrank4zh import TextRank4Keyword, TextRank4Sentence\n",
    "\n",
    "#text = codecs.open('01.txt', 'r', 'utf-8').read()\n",
    "tr4w = TextRank4Keyword()\n",
    "\n",
    "tr4w.analyze(text=text, lower=True, window=2)  # py2中text必须是utf8编码的str或者unicode对象，py3中必须是utf8编码的bytes或者str对象"
   ]
  },
  {
   "cell_type": "code",
   "execution_count": 53,
   "metadata": {},
   "outputs": [
    {
     "data": {
      "text/plain": [
       "'高校图书馆;3D打印服务;迈阿密大学;B.E.S.T.图书馆;美国;探索;启示'"
      ]
     },
     "execution_count": 53,
     "metadata": {},
     "output_type": "execute_result"
    }
   ],
   "source": [
    "df['关键词'][1]"
   ]
  },
  {
   "cell_type": "code",
   "execution_count": 54,
   "metadata": {},
   "outputs": [
    {
     "data": {
      "text/plain": [
       "'迈阿密大学B.E.S.T.图书馆作为美国较早提供3D打印服务的机构,其对3D打印服务的探索具有先创性。本文从满足用户创意实践需求、广泛吸收参与伙伴、提供全方位服务保障3个方面阐述了B.E.S.T.图书馆3D打印服务的创新性实践探索内容,并进一步探讨了我国高校图书馆3D打印服务可以借鉴的经验,对提升我国高校图书馆3D打印服务效能具有一定指导价值。'"
      ]
     },
     "execution_count": 54,
     "metadata": {},
     "output_type": "execute_result"
    }
   ],
   "source": [
    "df['摘要'][1]"
   ]
  },
  {
   "cell_type": "code",
   "execution_count": 55,
   "metadata": {},
   "outputs": [
    {
     "name": "stdout",
     "output_type": "stream",
     "text": [
      "关键词：\n",
      "打印服务 0.07651220752870871\n",
      "实践 0.06427901995062724\n",
      "探索 0.061599170287937585\n",
      "图书馆 0.05316577243229686\n",
      "参与 0.047294922187070584\n",
      "伙伴 0.047294922187070584\n",
      "经验 0.039202273522620776\n",
      "创意 0.03721203985987201\n",
      "服务 0.03642987249544627\n",
      "保障 0.03642987249544627\n",
      "方面 0.03642987249544627\n",
      "阐述 0.03642987249544627\n",
      "指导 0.03642987249544627\n",
      "价值 0.03642987249544627\n",
      "借鉴 0.03513358410646303\n",
      "具有 0.03222469114592543\n",
      "效能 0.03216811039052347\n",
      "创新性 0.03213190804673634\n",
      "美国 0.028061922527020965\n",
      "高校 0.028061922527020965\n",
      "提供 0.02556482280382194\n",
      "吸收 0.02556482280382194\n",
      "提升 0.022125978477283224\n",
      "满足用户 0.02127906821748389\n",
      "需求 0.019124302417556527\n",
      "内容 0.018553774481012753\n",
      "机构 0.01847208650349675\n",
      "大学 0.005464480874316941\n",
      "创性 0.005464480874316941\n",
      "探讨 0.005464480874316941\n"
     ]
    }
   ],
   "source": [
    "print( '关键词：' )\n",
    "for item in tr4w.get_keywords(30, word_min_len=1):\n",
    "    print(item.word, item.weight)"
   ]
  },
  {
   "cell_type": "code",
   "execution_count": 56,
   "metadata": {
    "scrolled": true
   },
   "outputs": [
    {
     "name": "stdout",
     "output_type": "stream",
     "text": [
      "关键短语：\n",
      "高校图书馆\n"
     ]
    }
   ],
   "source": [
    "print( '关键短语：' )\n",
    "for phrase in tr4w.get_keyphrases(keywords_num=20, min_occur_num= 2):\n",
    "    print(phrase)"
   ]
  },
  {
   "cell_type": "code",
   "execution_count": null,
   "metadata": {},
   "outputs": [],
   "source": []
  }
 ],
 "metadata": {
  "kernelspec": {
   "display_name": "Python 3",
   "language": "python",
   "name": "python3"
  },
  "language_info": {
   "codemirror_mode": {
    "name": "ipython",
    "version": 3
   },
   "file_extension": ".py",
   "mimetype": "text/x-python",
   "name": "python",
   "nbconvert_exporter": "python",
   "pygments_lexer": "ipython3",
   "version": "3.8.3"
  },
  "toc": {
   "base_numbering": 1,
   "nav_menu": {},
   "number_sections": true,
   "sideBar": true,
   "skip_h1_title": false,
   "title_cell": "Table of Contents",
   "title_sidebar": "Contents",
   "toc_cell": false,
   "toc_position": {},
   "toc_section_display": true,
   "toc_window_display": false
  }
 },
 "nbformat": 4,
 "nbformat_minor": 4
}
