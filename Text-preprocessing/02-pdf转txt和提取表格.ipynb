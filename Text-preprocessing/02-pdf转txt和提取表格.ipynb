{
 "cells": [
  {
   "cell_type": "code",
   "execution_count": null,
   "metadata": {},
   "outputs": [],
   "source": [
    "# pdf操作：\n",
    "# http://www.imooc.com/learn/712\n",
    "# https://automatetheboringstuff.com/chapter13/"
   ]
  },
  {
   "cell_type": "markdown",
   "metadata": {},
   "source": [
    "# Convert pdf to text"
   ]
  },
  {
   "cell_type": "code",
   "execution_count": null,
   "metadata": {},
   "outputs": [],
   "source": [
    "# https://github.com/jsvine/pdfplumber"
   ]
  },
  {
   "cell_type": "code",
   "execution_count": 68,
   "metadata": {},
   "outputs": [],
   "source": [
    "import pdfplumber\n",
    "outF = open(\"myOutFile.txt\", \"w\", encoding = 'utf-8')\n",
    "with pdfplumber.open(\"exam3.pdf\") as pdf:\n",
    "    for page in pdf.pages[:3]:\n",
    "        text = page.extract_text()\n",
    "        outF.write(text)       \n",
    "outF.close()"
   ]
  },
  {
   "cell_type": "code",
   "execution_count": null,
   "metadata": {},
   "outputs": [],
   "source": [
    "import pdfplumber\n",
    "with pdfplumber.open(\"exam3.pdf\") as pdf:\n",
    "    for page in pdf.pages[:3]:\n",
    "        text = page.extract_text()\n",
    "        with pdfplumber.open(\"exam3.pdf\") as pdf:\n",
    "    for page in pdf.pages[:3]:\n",
    "        text = page.extract_text()"
   ]
  },
  {
   "cell_type": "markdown",
   "metadata": {},
   "source": [
    "# Extract Tables from pdf"
   ]
  },
  {
   "cell_type": "code",
   "execution_count": 7,
   "metadata": {},
   "outputs": [],
   "source": [
    "import pdfplumber\n",
    "import pandas as pd\n",
    "\n",
    "list_row = []\n",
    "\n",
    "with pdfplumber.open('exam3.pdf') as pdf:\n",
    "    page=pdf.pages[3] #提取pdf第4页中的表格\n",
    "    for row in page.extract_tables():\n",
    "        list_row.append(row)\n",
    "df1 = pd.DataFrame(list_row[0])\n",
    "df2 = pd.DataFrame(list_row[1])"
   ]
  },
  {
   "cell_type": "code",
   "execution_count": 9,
   "metadata": {},
   "outputs": [
    {
     "data": {
      "text/html": [
       "<div>\n",
       "<style scoped>\n",
       "    .dataframe tbody tr th:only-of-type {\n",
       "        vertical-align: middle;\n",
       "    }\n",
       "\n",
       "    .dataframe tbody tr th {\n",
       "        vertical-align: top;\n",
       "    }\n",
       "\n",
       "    .dataframe thead th {\n",
       "        text-align: right;\n",
       "    }\n",
       "</style>\n",
       "<table border=\"1\" class=\"dataframe\">\n",
       "  <thead>\n",
       "    <tr style=\"text-align: right;\">\n",
       "      <th></th>\n",
       "      <th>0</th>\n",
       "      <th>1</th>\n",
       "      <th>2</th>\n",
       "    </tr>\n",
       "  </thead>\n",
       "  <tbody>\n",
       "    <tr>\n",
       "      <th>0</th>\n",
       "      <td>报告期末股东总数（户）</td>\n",
       "      <td>None</td>\n",
       "      <td>21,065</td>\n",
       "    </tr>\n",
       "    <tr>\n",
       "      <th>1</th>\n",
       "      <td>前十名无限售条件流通股股东持股情况</td>\n",
       "      <td>None</td>\n",
       "      <td>None</td>\n",
       "    </tr>\n",
       "    <tr>\n",
       "      <th>2</th>\n",
       "      <td>股东名称（全称）</td>\n",
       "      <td>期末持有无限售条件流通股的数\\n量</td>\n",
       "      <td>种类</td>\n",
       "    </tr>\n",
       "    <tr>\n",
       "      <th>3</th>\n",
       "      <td>中国建设银行－工银瑞\\n信稳健成长股票型证券\\n投资基金</td>\n",
       "      <td>2,937,544</td>\n",
       "      <td>人民币普通股  2,937,544</td>\n",
       "    </tr>\n",
       "    <tr>\n",
       "      <th>4</th>\n",
       "      <td>中国农业银行－中邮核\\n心优选股票型证券投资\\n基金</td>\n",
       "      <td>1,904,153</td>\n",
       "      <td>人民币普通股  1,904,153</td>\n",
       "    </tr>\n",
       "    <tr>\n",
       "      <th>5</th>\n",
       "      <td>招商银行股份有限公司\\n－中邮核心主题股票型\\n证券投资基金</td>\n",
       "      <td>1,024,645</td>\n",
       "      <td>人民币普通股  1,024,645</td>\n",
       "    </tr>\n",
       "    <tr>\n",
       "      <th>6</th>\n",
       "      <td>全国社保基金四一三组\\n合</td>\n",
       "      <td>717,794</td>\n",
       "      <td>人民币普通股  717,794</td>\n",
       "    </tr>\n",
       "    <tr>\n",
       "      <th>7</th>\n",
       "      <td>任智彪</td>\n",
       "      <td>661,864</td>\n",
       "      <td>人民币普通股  661,864</td>\n",
       "    </tr>\n",
       "    <tr>\n",
       "      <th>8</th>\n",
       "      <td>兴业银行股份有限公司\\n－兴全有机增长灵活配\\n置混合型证券投资基金</td>\n",
       "      <td>656,870</td>\n",
       "      <td>人民币普通股  656,870</td>\n",
       "    </tr>\n",
       "    <tr>\n",
       "      <th>9</th>\n",
       "      <td>交通银行－金鹰中小盘\\n精选证券投资基金</td>\n",
       "      <td>549,999</td>\n",
       "      <td>人民币普通股  549,999</td>\n",
       "    </tr>\n",
       "    <tr>\n",
       "      <th>10</th>\n",
       "      <td>交通银行股份有限公司\\n－光大保德信中小盘股\\n票型证券投资基金</td>\n",
       "      <td>484,975</td>\n",
       "      <td>人民币普通股  484,975</td>\n",
       "    </tr>\n",
       "    <tr>\n",
       "      <th>11</th>\n",
       "      <td>中国银行－工银瑞信核\\n心价值股票型证券投资\\n基金</td>\n",
       "      <td>433,360</td>\n",
       "      <td>人民币普通股  433,360</td>\n",
       "    </tr>\n",
       "    <tr>\n",
       "      <th>12</th>\n",
       "      <td>申银万国证券股份有限\\n公司客户信用交易担保\\n证券账户</td>\n",
       "      <td>427,045</td>\n",
       "      <td>人民币普通股  427,045</td>\n",
       "    </tr>\n",
       "  </tbody>\n",
       "</table>\n",
       "</div>"
      ],
      "text/plain": [
       "                                     0                  1                  2\n",
       "0                          报告期末股东总数（户）               None             21,065\n",
       "1                    前十名无限售条件流通股股东持股情况               None               None\n",
       "2                             股东名称（全称）  期末持有无限售条件流通股的数\\n量                 种类\n",
       "3         中国建设银行－工银瑞\\n信稳健成长股票型证券\\n投资基金          2,937,544  人民币普通股  2,937,544\n",
       "4           中国农业银行－中邮核\\n心优选股票型证券投资\\n基金          1,904,153  人民币普通股  1,904,153\n",
       "5       招商银行股份有限公司\\n－中邮核心主题股票型\\n证券投资基金          1,024,645  人民币普通股  1,024,645\n",
       "6                        全国社保基金四一三组\\n合            717,794    人民币普通股  717,794\n",
       "7                                  任智彪            661,864    人民币普通股  661,864\n",
       "8   兴业银行股份有限公司\\n－兴全有机增长灵活配\\n置混合型证券投资基金            656,870    人民币普通股  656,870\n",
       "9                 交通银行－金鹰中小盘\\n精选证券投资基金            549,999    人民币普通股  549,999\n",
       "10    交通银行股份有限公司\\n－光大保德信中小盘股\\n票型证券投资基金            484,975    人民币普通股  484,975\n",
       "11          中国银行－工银瑞信核\\n心价值股票型证券投资\\n基金            433,360    人民币普通股  433,360\n",
       "12        申银万国证券股份有限\\n公司客户信用交易担保\\n证券账户            427,045    人民币普通股  427,045"
      ]
     },
     "execution_count": 9,
     "metadata": {},
     "output_type": "execute_result"
    }
   ],
   "source": [
    "df2"
   ]
  }
 ],
 "metadata": {
  "kernelspec": {
   "display_name": "Python 3",
   "language": "python",
   "name": "python3"
  },
  "language_info": {
   "codemirror_mode": {
    "name": "ipython",
    "version": 3
   },
   "file_extension": ".py",
   "mimetype": "text/x-python",
   "name": "python",
   "nbconvert_exporter": "python",
   "pygments_lexer": "ipython3",
   "version": "3.8.3"
  }
 },
 "nbformat": 4,
 "nbformat_minor": 4
}
