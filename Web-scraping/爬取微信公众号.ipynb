{
 "cells": [
  {
   "cell_type": "code",
   "execution_count": 10,
   "metadata": {},
   "outputs": [],
   "source": [
    "# 参考：https://github.com/wnma3mz/wechat_articles_spider\n",
    "official_cookie = \n",
    "token = \n",
    "nickname = '量化投资与机器学习'"
   ]
  },
  {
   "cell_type": "code",
   "execution_count": 2,
   "metadata": {},
   "outputs": [
    {
     "data": {
      "text/plain": [
       "1150"
      ]
     },
     "execution_count": 2,
     "metadata": {},
     "output_type": "execute_result"
    }
   ],
   "source": [
    "from wechatarticles import ArticlesAPI, ArticlesUrls\n",
    "# 实例化爬取对象\n",
    "# 手动输入cookie和token\n",
    "test = ArticlesUrls(cookie=official_cookie, token=token)\n",
    "\n",
    "# 输入公众号名称，获取公众号文章总数\n",
    "test.articles_nums(nickname)"
   ]
  },
  {
   "cell_type": "code",
   "execution_count": null,
   "metadata": {},
   "outputs": [],
   "source": [
    "# 输入公众号名称，获取公众号部分文章信息, 每次最大返回数为5个\n",
    "begin = 0\n",
    "articles_data = [] \n",
    "for begin in list(range(0,1150,6)):\n",
    "    test = ArticlesUrls(cookie=official_cookie, token=token)\n",
    "    articles_data += test.articles(nickname, begin, count=\"5\")"
   ]
  },
  {
   "cell_type": "code",
   "execution_count": 24,
   "metadata": {},
   "outputs": [],
   "source": [
    "import pickle\n",
    "output = open('articles_data.pkl', 'wb')\n",
    "pickle.dump(articles_data, output)\n",
    "output.close()"
   ]
  },
  {
   "cell_type": "code",
   "execution_count": 2,
   "metadata": {},
   "outputs": [],
   "source": [
    "import pickle\n",
    "pkl_file = open('articles_data.pkl', 'rb')\n",
    "articles_data = pickle.load(pkl_file)\n",
    "pkl_file.close()"
   ]
  },
  {
   "cell_type": "code",
   "execution_count": 47,
   "metadata": {},
   "outputs": [],
   "source": [
    "import pandas as pd\n",
    "df = pd.DataFrame(articles_data)"
   ]
  },
  {
   "cell_type": "code",
   "execution_count": 48,
   "metadata": {},
   "outputs": [],
   "source": [
    "import time\n",
    "\n",
    "def getTime(seconds):\n",
    "    # 参考https://blog.csdn.net/df0128/article/details/88248213\n",
    "    timeArray = time.localtime(seconds)\n",
    "    otherStyleTime = time.strftime(\"%m月%d日\", timeArray)\n",
    "    return otherStyleTime"
   ]
  },
  {
   "cell_type": "code",
   "execution_count": 49,
   "metadata": {},
   "outputs": [],
   "source": [
    "df['create_time'] = df['create_time'].apply(getTime)\n",
    "df = df[['title','link', 'create_time']]\n",
    "df = df.reindex(index=df.index[::-1])\n",
    "df.index = range(len(df))\n",
    "df.shape"
   ]
  },
  {
   "cell_type": "code",
   "execution_count": 54,
   "metadata": {},
   "outputs": [],
   "source": [
    "df.to_csv('文章统计.csv', index=False)"
   ]
  },
  {
   "cell_type": "code",
   "execution_count": 55,
   "metadata": {},
   "outputs": [
    {
     "data": {
      "text/html": [
       "<div>\n",
       "<style scoped>\n",
       "    .dataframe tbody tr th:only-of-type {\n",
       "        vertical-align: middle;\n",
       "    }\n",
       "\n",
       "    .dataframe tbody tr th {\n",
       "        vertical-align: top;\n",
       "    }\n",
       "\n",
       "    .dataframe thead th {\n",
       "        text-align: right;\n",
       "    }\n",
       "</style>\n",
       "<table border=\"1\" class=\"dataframe\">\n",
       "  <thead>\n",
       "    <tr style=\"text-align: right;\">\n",
       "      <th></th>\n",
       "      <th>title</th>\n",
       "      <th>link</th>\n",
       "      <th>create_time</th>\n",
       "    </tr>\n",
       "  </thead>\n",
       "  <tbody>\n",
       "    <tr>\n",
       "      <th>159</th>\n",
       "      <td>退休太无聊！Python之父加盟微软</td>\n",
       "      <td>http://mp.weixin.qq.com/s?__biz=MzAxNTc0Mjg0Mg...</td>\n",
       "      <td>11月13日</td>\n",
       "    </tr>\n",
       "    <tr>\n",
       "      <th>160</th>\n",
       "      <td>桥水、中国、全天候！</td>\n",
       "      <td>http://mp.weixin.qq.com/s?__biz=MzAxNTc0Mjg0Mg...</td>\n",
       "      <td>11月16日</td>\n",
       "    </tr>\n",
       "    <tr>\n",
       "      <th>161</th>\n",
       "      <td>最新！华尔街13F持仓曝光，价值股提速跑出灰犀牛？</td>\n",
       "      <td>http://mp.weixin.qq.com/s?__biz=MzAxNTc0Mjg0Mg...</td>\n",
       "      <td>11月18日</td>\n",
       "    </tr>\n",
       "    <tr>\n",
       "      <th>162</th>\n",
       "      <td>ChinaScope | 从宏观到个股：新闻分析数据在A股的应用</td>\n",
       "      <td>http://mp.weixin.qq.com/s?__biz=MzAxNTc0Mjg0Mg...</td>\n",
       "      <td>11月18日</td>\n",
       "    </tr>\n",
       "    <tr>\n",
       "      <th>163</th>\n",
       "      <td>珠池资产 | 组合基金，作为一项另类资产</td>\n",
       "      <td>http://mp.weixin.qq.com/s?__biz=MzAxNTc0Mjg0Mg...</td>\n",
       "      <td>11月19日</td>\n",
       "    </tr>\n",
       "  </tbody>\n",
       "</table>\n",
       "</div>"
      ],
      "text/plain": [
       "                                title  \\\n",
       "159                退休太无聊！Python之父加盟微软   \n",
       "160                        桥水、中国、全天候！   \n",
       "161         最新！华尔街13F持仓曝光，价值股提速跑出灰犀牛？   \n",
       "162  ChinaScope | 从宏观到个股：新闻分析数据在A股的应用   \n",
       "163              珠池资产 | 组合基金，作为一项另类资产   \n",
       "\n",
       "                                                  link create_time  \n",
       "159  http://mp.weixin.qq.com/s?__biz=MzAxNTc0Mjg0Mg...      11月13日  \n",
       "160  http://mp.weixin.qq.com/s?__biz=MzAxNTc0Mjg0Mg...      11月16日  \n",
       "161  http://mp.weixin.qq.com/s?__biz=MzAxNTc0Mjg0Mg...      11月18日  \n",
       "162  http://mp.weixin.qq.com/s?__biz=MzAxNTc0Mjg0Mg...      11月18日  \n",
       "163  http://mp.weixin.qq.com/s?__biz=MzAxNTc0Mjg0Mg...      11月19日  "
      ]
     },
     "execution_count": 55,
     "metadata": {},
     "output_type": "execute_result"
    }
   ],
   "source": [
    "df.tail()"
   ]
  }
 ],
 "metadata": {
  "kernelspec": {
   "display_name": "Python 3",
   "language": "python",
   "name": "python3"
  },
  "language_info": {
   "codemirror_mode": {
    "name": "ipython",
    "version": 3
   },
   "file_extension": ".py",
   "mimetype": "text/x-python",
   "name": "python",
   "nbconvert_exporter": "python",
   "pygments_lexer": "ipython3",
   "version": "3.8.3"
  }
 },
 "nbformat": 4,
 "nbformat_minor": 4
}
