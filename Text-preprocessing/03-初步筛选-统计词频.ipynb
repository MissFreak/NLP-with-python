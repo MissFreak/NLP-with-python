{
 "cells": [
  {
   "cell_type": "markdown",
   "metadata": {},
   "source": [
    "# 初步筛选：统计abstract词频"
   ]
  },
  {
   "cell_type": "code",
   "execution_count": 184,
   "metadata": {
    "scrolled": true
   },
   "outputs": [
    {
     "name": "stderr",
     "output_type": "stream",
     "text": [
      "<ipython-input-184-51b35dd1f679>:4: FutureWarning: Passing a negative integer is deprecated in version 1.0 and will not be supported in future version. Instead, use None to not limit the column width.\n",
      "  pd.set_option('display.max_colwidth', -1)\n"
     ]
    }
   ],
   "source": [
    "import pandas as pd\n",
    "import nltk\n",
    "from collections import Counter\n",
    "pd.set_option('display.max_colwidth', -1)\n",
    "df2 = pd.read_csv('../爬虫/papers_changed.csv', index_col=0)\n",
    "df2 = df2[df2['abstract'].str.contains('interaction|interaction')]"
   ]
  },
  {
   "cell_type": "code",
   "execution_count": 163,
   "metadata": {
    "scrolled": true
   },
   "outputs": [
    {
     "name": "stdout",
     "output_type": "stream",
     "text": [
      "0 :  amx045 :  2\n",
      "1 :  maa017 :  1\n",
      "2 :  amw039 :  2\n",
      "3 :  amw048 :  1\n",
      "4 :  amv066 :  4\n",
      "5 :  amx048 :  1\n",
      "6 :  amw021 :  4\n",
      "7 :  amw047 :  3\n",
      "8 :  amz014 :  1\n",
      "9 :  amw049 :  2\n",
      "10 :  amz050 :  1\n",
      "11 :  amw007 :  2\n",
      "12 :  amx001 :  5\n",
      "13 :  amx020 :  3\n",
      "14 :  amx031 :  3\n",
      "15 :  amx014 :  2\n",
      "16 :  amz047 :  2\n",
      "17 :  amv071 :  1\n",
      "18 :  amz040 :  2\n",
      "19 :  amy012 :  1\n",
      "20 :  amx039 :  1\n",
      "21 :  amx029 :  5\n",
      "22 :  amx047 :  1\n",
      "23 :  maa024 :  2\n",
      "24 :  amy050 :  2\n",
      "25 :  amv065 :  1\n"
     ]
    }
   ],
   "source": [
    "i = 0\n",
    "list_interaction = []\n",
    "for abstract in df2['abstract']:      \n",
    "    tokens = nltk.word_tokenize(abstract.lower())\n",
    "    wordcounts = Counter(tokens)\n",
    "    num = wordcounts['interaction']+wordcounts['interactions']+wordcounts['interactional']\n",
    "    if num >0:\n",
    "        print(i, ': ', df2.iloc[i]['link'][-6:], ': ', num)\n",
    "        list_interaction.append(i)\n",
    "    i+=1"
   ]
  },
  {
   "cell_type": "code",
   "execution_count": 159,
   "metadata": {},
   "outputs": [],
   "source": [
    "list_subtract = [12,2,4,7,11,12, 23,18, 24,21]\n",
    "list_interaction = [item for item in list_interaction if item not in list_subtract]"
   ]
  },
  {
   "cell_type": "code",
   "execution_count": 161,
   "metadata": {},
   "outputs": [],
   "source": [
    "#df2.reset_index(inplace=True)\n",
    "df3 = df2.iloc[list_interaction][['title', 'abstract']]"
   ]
  },
  {
   "cell_type": "code",
   "execution_count": 186,
   "metadata": {},
   "outputs": [
    {
     "data": {
      "text/html": [
       "<script type=\"text/Javascript\">var win = window.open(\"\", \"Title\", \"toolbar=no, location=no, directories=no, status=no, menubar=no, scrollbars=yes, resizable=yes, width=780, height=200, top=\"+(screen.height-400)+\", left=\"+(screen.width-840));win.document.body.innerHTML = '<table border=\"1\" class=\"dataframe\">\\  <thead>\\    <tr style=\"text-align: right;\">\\      <th></th>\\      <th>title</th>\\      <th>abstract</th>\\    </tr>\\  </thead>\\  <tbody>\\    <tr>\\      <th>0</th>\\      <td>Connecting the Language Classroom and the Wild: Re-enactments of Language Use Experiences</td>\\      <td>Using multimodal conversation analysis, this article analyses language learning as an &lt;em&gt;in situ&lt;/em&gt; process during a teacher-assigned, experientially based pedagogical activity. The activity involved a three-part pedagogical structure, where learners first prepared for and then participated in real-life service encounters, and later reflected on their experiences back in the classroom. The analysis details how the co-constructed telling sequences through which novice second language users re-enact their experiences create an occasion for language-focused activity. We argue that the actions through which the participants display and sustain an orientation to an interactional practice as an object of learning make visible a learning project. The findings illuminate the practices through which language-focused activity is initiated, sustained, and managed to enable &lt;em&gt;in situ&lt;/em&gt; learning. They also show how re-enactments function in storytelling and display a novice learner’s interactional competence. Finally, the findings illustrate how experiences gained in everyday social activities can be ‘harvested and reflected upon’ (&lt;span class=\"xrefLink\" id=\"jumplink-amx045-B59\"&gt;&lt;/span&gt;&lt;a class=\"link link-ref link-reveal xref-bibr\" data-open=\"amx045-B59\" href=\"javascript:;\" reveal-id=\"amx045-B59\"&gt;Wagner 2015&lt;/a&gt;: 77) in the classroom and contribute to recent initiatives to develop teaching practices that support learning in-the-wild.</td>\\    </tr>\\    <tr>\\      <th>6</th>\\      <td>L2 Interactional Competence as Increased Ability for Context-sensitive Conduct: A Longitudinal Study of Story-openings</td>\\      <td>This article sets out to investigate second language (L2) interactional competence and its development over time by zooming into a conversational activity that is pervasive in our social lives: storytelling. We present a longitudinal case study of a German L1 speaking au-pair’s conversational storytellings during her nine-month stay with a French-speaking host family. We document how her practices and resources for opening a story change over time: She increasingly uses techniques allowing her to secure recipiency, to project features of the nature of the incipient story, and to display its relation to preceding talk; and she shows increased use of grammatical constructions that are fitted for the task of getting these interactional jobs accomplished. The findings suggest that the development of L2 interactional competence centrally hinges on speakers’ increased ability to design talk in a way for it to be attended to and understood by others, and to deploy context-sensitive conduct based on both sequential and linguistic resources. While the study enhances our understanding of the nature and the development of L2 interactional competence, it also critically relates to current discussions regarding longitudinal comparative analysis of social practices.</td>\\    </tr>\\    <tr>\\      <th>9</th>\\      <td>Multilingual Children between Real and Imaginary Worlds: Language Play as Resignifying Practice</td>\\      <td>This article analyzes how a group of multilingual children in their early adolescence use various forms of language play and position themselves symbolically through involvement in signifying practices. By developing a conceptual framework that combines insights on language play (Cook 2000) and the signifying self (Kramsch 2009), it demonstrates how the children as sign makers and symbolic subjects (re)signify their own learning space. The analysis reveals how, during a reading and joint text construction activity in Danish, they explore the symbolic possibilities of signs and subjectivities, while moving in and out of the text and back and forth between imagined and real worlds. These findings illustrate how the children’s interest both shapes their playful interaction and &lt;em&gt;takes shape&lt;/em&gt; through it. It furthermore shows how language play contributes to paving the way for a resignification of a potentially vulnerable learner position to a subject position as audible. The paper argues that a detailed focus on children’s signifying practices that includes the interactional development of interest can broaden our understanding of language play and its transformative potential.</td>\\    </tr>\\    <tr>\\      <th>13</th>\\      <td>Assessing Tasks: The Case of Interactional Difficulty</td>\\      <td>This article is a conceptual and methodological exploration of a new construct, task interactional difficulty, and of a possible approach to assessing task demands in general. After arguing for the use of ‘task difficulty’ instead of ‘task complexity’, the notion of task interactional difficulty is analyzed, first by reviewing previous SLA research, then by elaborating an explicit theoretical definition. An operationalization is suggested in terms of three dimensions: number of turn exchanges, number of initiating moves, and visual access among participants. The first two parameters can be measured on native speakers’ task performance, while the third may be assessed with two categorical values. To demonstrate the feasibility of this approach, these measures are applied to a corpus of native speakers of Italian performing six different oral tasks, which are then ranked according to their interactional difficulty. Implications for SLA research and task-based language teaching and assessment are discussed, as well as possible ways of extending this procedure to other types of tasks and other facets of difficulty.</td>\\    </tr>\\    <tr>\\      <th>14</th>\\      <td>Tracking Microgenetic Changes in Authorial Voice Development from a Complexity Theory Perspective</td>\\      <td>Engaging a complexity theory view of learning, this study examined an atypical timescale for tracking L2 authorial voice development through the interaction of cognitive processes that inform voice construction. A microgenetic analysis of seven adult Japanese learners of English in a three-week writing course designed to help students develop their authorial voices revealed learning dimensions that were (i) wide in breadth, (ii) isomorphic in their rate, (iii) triggered by repeated tasks in a teaching-and-learning cycle facilitated by stylistic analyses, (iv) variegated across learners, and (v) erratic and nonlinear. Interactions also showed signs of stabilizing during the final phase of the intervention. These findings are consistent with a complexity theory view of L2 development, demonstrating that repeated and similar learning tasks implicate emergentist interpretations of language and literacy development. This article contributes to understanding authorial voice construction across atypical timescales and invites L2 studies to apply timescales of development more relativistically. This study also emphasizes the importance of further exploring microgenetic interactions for understanding the ontogenesis of authorial voice and for conceptualizing its development inside and outside the classroom.</td>\\    </tr>\\    <tr>\\      <th>15</th>\\      <td>How Learning Occurs in an Extensive Reading Book Club: A Conversation Analytic Perspective</td>\\      <td>Extensive reading (ER) has been implemented in various second language (L2) teaching and learning contexts, and studies in the field have provided a wealth of empirical evidence that a large amount of L2 reading over an extended time improves students’ reading ability and benefits other areas of language learning (Nakanishi 2015; Jeon and Day 2016). However, despite the large amount of research on ER, there is still a lack of studies that show how or whether students accomplish learning during ER activities. To begin to fill this gap, this study applies a conversation analytic lens to investigate cases of local L2 learning and linguistic development during ER book club interactions. The analysis of the selected excerpts shows how the participants themselves shift the interactional focus from book talk to a lexical item during talk-in-interaction (i.e. orientation to learning), and how they deploy the learning object in subsequent speech events (i.e. short-term development). The analysis also shows how the participants orient to emergent learning objects from several different angles (e.g. pronunciation, meaning, spelling, and morphological form).</td>\\    </tr>\\    <tr>\\      <th>16</th>\\      <td>Emergence of Proactive Self-Initiated Self-Repair as an Indicator of L2 IC Development</td>\\      <td>This article finds empirical evidence of second language (L2) interactional competence (IC) and its development by focusing on one of the interactional practices: self-repairing. Compared to prior repair IC studies which mainly have explored how L2 speakers deal with evident L2-related troubles in conversation, this study focuses on cases in which they deploy self-repair when there are no such linguistic problems in previous talk, taking &lt;span class=\"xrefLink\" id=\"jumplink-amz047-B38\"&gt;&lt;/span&gt;&lt;a class=\"link link-ref link-reveal xref-bibr\" data-open=\"amz047-B38\" href=\"javascript:;\" reveal-id=\"amz047-B38\"&gt;Mauranen’s (2006)&lt;/a&gt; dichotomy between retroactive and proactive self-repairs. After analyzing the conversation by L2 speakers with different oral proficiency, this study discovers whereas novice and intermediate speakers self-repair for correcting what is lexically or grammatically problematic, advanced speakers deploy self-repair mostly for pre-empting possible misunderstandings. Advanced speakers replace the previous items into words that are specific in the meaning range by fine-tuning the level of ‘granularity’ (&lt;span class=\"xrefLink\" id=\"jumplink-amz047-B51\"&gt;&lt;/span&gt;&lt;a class=\"link link-ref link-reveal xref-bibr\" data-open=\"amz047-B51\" href=\"javascript:;\" reveal-id=\"amz047-B51\"&gt;Schegloff 2000&lt;/a&gt;) to avoid ambiguity and further other-initiated repair. The findings suggest that the development of L2 IC involves speakers’ ability to detect potential problems in the eyes of the recipients and replace them in advance.</td>\\    </tr>\\  </tbody>\\</table>';</script>"
      ],
      "text/plain": [
       "<IPython.core.display.HTML object>"
      ]
     },
     "execution_count": 186,
     "metadata": {},
     "output_type": "execute_result"
    }
   ],
   "source": [
    "from IPython.display import HTML\n",
    "s  = '<script type=\"text/Javascript\">'\n",
    "s += 'var win = window.open(\"\", \"Title\", \"toolbar=no, location=no, directories=no, status=no, menubar=no, scrollbars=yes, resizable=yes, width=780, height=200, top=\"+(screen.height-400)+\", left=\"+(screen.width-840));'\n",
    "s += 'win.document.body.innerHTML = \\'' + df3.to_html().replace(\"\\n\",'\\\\') + '\\';'\n",
    "s += '</script>'\n",
    "\n",
    "# Show in new Window\n",
    "HTML(s)"
   ]
  },
  {
   "cell_type": "code",
   "execution_count": 164,
   "metadata": {},
   "outputs": [
    {
     "data": {
      "text/plain": [
       "'This multifactorial corpus-based exploration of past tenses focuses specifically on the present perfect (PP) versus simple past (SP) alternation in intermediate-to-advanced learner English produced by French and German native speakers. While existing work on past tenses in L2 has traditionally focused on the role of lexical aspect in the acquisition and uses of these past tenses, the current study focuses on the linguistic context of use of these tenses and identifies the linguistic features whose co-occurrence and combined effects cause native speakers and learners to differ in their uses of past tenses. Methodologically, the study uses a random forests approach including a surrogate logistic regression model and interactions between contextual linguistic features. Overall, the multifactorial results suggest that not all linguistic contexts facilitate native-like uses of the PP and SP equally as some contexts more than others are susceptible to cross-linguistic interference.'"
      ]
     },
     "execution_count": 164,
     "metadata": {},
     "output_type": "execute_result"
    }
   ],
   "source": [
    "df2.iloc[1]['abstract']"
   ]
  }
 ],
 "metadata": {
  "kernelspec": {
   "display_name": "Python 3",
   "language": "python",
   "name": "python3"
  },
  "language_info": {
   "codemirror_mode": {
    "name": "ipython",
    "version": 3
   },
   "file_extension": ".py",
   "mimetype": "text/x-python",
   "name": "python",
   "nbconvert_exporter": "python",
   "pygments_lexer": "ipython3",
   "version": "3.8.3"
  }
 },
 "nbformat": 4,
 "nbformat_minor": 4
}
