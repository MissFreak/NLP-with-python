{
 "cells": [
  {
   "cell_type": "code",
   "execution_count": 1,
   "metadata": {},
   "outputs": [],
   "source": [
    "import pandas as pd"
   ]
  },
  {
   "cell_type": "code",
   "execution_count": 2,
   "metadata": {},
   "outputs": [],
   "source": [
    "with open('topics.csv') as csv:\n",
    "    with open('newtopics.csv','w') as result:\n",
    "        for line in csv:\n",
    "            columns = line.split(',')\n",
    "            num = len(line.split(','))\n",
    "            columns[1] = ' + '.join(columns[1:])\n",
    "            new_column = columns[0]+','+columns[1].replace(\"\\n\", \"\")+'\\n'\n",
    "            result.write(new_column.lower())"
   ]
  },
  {
   "cell_type": "code",
   "execution_count": 3,
   "metadata": {},
   "outputs": [],
   "source": [
    "df = pd.read_csv('newtopics.csv', header= 0, names=['序号', '关键词'], index_col=0)\n",
    "df = df[df['关键词'].str.contains('interaction')]\n",
    "df2 = pd.read_csv('papers_changed.csv', index_col=0)"
   ]
  },
  {
   "cell_type": "code",
   "execution_count": 4,
   "metadata": {},
   "outputs": [],
   "source": [
    "df2 = df2[df2['abstract'].str.contains('interaction')]"
   ]
  },
  {
   "cell_type": "code",
   "execution_count": 5,
   "metadata": {},
   "outputs": [],
   "source": [
    "list_url = [i for i in df.join(df2['link'], how='inner')['link']]"
   ]
  },
  {
   "cell_type": "code",
   "execution_count": 6,
   "metadata": {},
   "outputs": [
    {
     "data": {
      "text/plain": [
       "['https://doi.org/10.1093/applin/amx045',\n",
       " 'https://doi.org/10.1093/applin/amaa017',\n",
       " 'https://doi.org/10.1093/applin/amw039',\n",
       " 'https://doi.org/10.1093/applin/amw048',\n",
       " 'https://doi.org/10.1093/applin/amv066',\n",
       " 'https://doi.org/10.1093/applin/amx048',\n",
       " 'https://doi.org/10.1093/applin/amw021',\n",
       " 'https://doi.org/10.1093/applin/amw047',\n",
       " 'https://doi.org/10.1093/applin/amz014',\n",
       " 'https://doi.org/10.1093/applin/amw049',\n",
       " 'https://doi.org/10.1093/applin/amz050',\n",
       " 'https://doi.org/10.1093/applin/amw007',\n",
       " 'https://doi.org/10.1093/applin/amx001',\n",
       " 'https://doi.org/10.1093/applin/amx020',\n",
       " 'https://doi.org/10.1093/applin/amx031',\n",
       " 'https://doi.org/10.1093/applin/amx014',\n",
       " 'https://doi.org/10.1093/applin/amz047',\n",
       " 'https://doi.org/10.1093/applin/amv071',\n",
       " 'https://doi.org/10.1093/applin/amz040',\n",
       " 'https://doi.org/10.1093/applin/amy012',\n",
       " 'https://doi.org/10.1093/applin/amx039',\n",
       " 'https://doi.org/10.1093/applin/amx029',\n",
       " 'https://doi.org/10.1093/applin/amx047',\n",
       " 'https://doi.org/10.1093/applin/amaa024',\n",
       " 'https://doi.org/10.1093/applin/amy050',\n",
       " 'https://doi.org/10.1093/applin/amv065']"
      ]
     },
     "execution_count": 6,
     "metadata": {},
     "output_type": "execute_result"
    }
   ],
   "source": [
    "list_url = [i for i in df2['link']]\n",
    "list_url"
   ]
  },
  {
   "cell_type": "markdown",
   "metadata": {},
   "source": [
    "从sci-hub爬取相关文章并保存为pdf。"
   ]
  },
  {
   "cell_type": "code",
   "execution_count": 7,
   "metadata": {},
   "outputs": [],
   "source": [
    "from fake_useragent import UserAgent\n",
    "import requests\n",
    "from bs4 import BeautifulSoup\n",
    "ua = UserAgent()\n",
    "import random, time"
   ]
  },
  {
   "cell_type": "code",
   "execution_count": 8,
   "metadata": {},
   "outputs": [],
   "source": [
    "domain_scihub = 'https://sci-hub.tf/'"
   ]
  },
  {
   "cell_type": "code",
   "execution_count": 9,
   "metadata": {},
   "outputs": [
    {
     "name": "stdout",
     "output_type": "stream",
     "text": [
      "Downloading: https://sci-hub.tf/https://doi.org/10.1093/applin/amaa024\n",
      "pdf link: http://sci-hub.tf/downloads/2020-08-01/d56f/oup-accepted-manuscript-2020.pdf?download=true\n",
      "200\n",
      "Downloaded: maa024.pdf\n",
      "Downloading: https://sci-hub.tf/https://doi.org/10.1093/applin/amy050\n",
      "pdf link: https://sci-hub.tf/tree/98/e1/98e1381bf216ef35a8cc5138eed13fb8.pdf?download=true\n",
      "200\n",
      "Downloaded: amy050.pdf\n",
      "Downloading: https://sci-hub.tf/https://doi.org/10.1093/applin/amv065\n",
      "pdf link: https://zero.sci-hub.do/4895/a7cd38af669fe7d7b9465d19b2024af0/seedhouse2016.pdf?download=true\n",
      "200\n",
      "Downloaded: amv065.pdf\n"
     ]
    }
   ],
   "source": [
    "for doi in list_url[-3:]:\n",
    "    filename = doi[-6:]+'.pdf'\n",
    "    sci_url = domain_scihub + doi\n",
    "    headers = {'User-Agent': ua.random}\n",
    "    print('Downloading: '+ sci_url)\n",
    "    bs = BeautifulSoup(requests.get(sci_url, headers=headers).content, \"lxml\")\n",
    "    # 下面这一步是关键：\n",
    "    pdf_link = bs.find('div', id = 'buttons').find_all('a')[1].attrs.get(\"onclick\").replace('location.href=','')[1:-1]    \n",
    "    if 'http:'in pdf_link or 'https:'in pdf_link:\n",
    "        pass\n",
    "    else:\n",
    "        pdf_link = 'http:' + pdf_link\n",
    "    print('pdf link: '+ pdf_link)\n",
    "    response = requests.get(pdf_link, headers=headers)\n",
    "    print(response.status_code)\n",
    "    with open('interaction '+ filename, 'wb') as f:\n",
    "        f.write(response.content)\n",
    "    print('Downloaded: '+ filename)\n",
    "    time.sleep(random.random()*20)  "
   ]
  }
 ],
 "metadata": {
  "kernelspec": {
   "display_name": "Python 3",
   "language": "python",
   "name": "python3"
  },
  "language_info": {
   "codemirror_mode": {
    "name": "ipython",
    "version": 3
   },
   "file_extension": ".py",
   "mimetype": "text/x-python",
   "name": "python",
   "nbconvert_exporter": "python",
   "pygments_lexer": "ipython3",
   "version": "3.8.3"
  }
 },
 "nbformat": 4,
 "nbformat_minor": 4
}
