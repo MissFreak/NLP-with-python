{
 "cells": [
  {
   "cell_type": "code",
   "execution_count": 4,
   "metadata": {},
   "outputs": [],
   "source": [
    "import pandas as pd"
   ]
  },
  {
   "cell_type": "code",
   "execution_count": 71,
   "metadata": {},
   "outputs": [],
   "source": [
    "with open('topics.csv') as csv:\n",
    "    with open('newtopics.csv','w') as result:\n",
    "        for line in csv:\n",
    "            columns = line.split(',')\n",
    "            num = len(line.split(','))\n",
    "            columns[1] = ' + '.join(columns[1:])\n",
    "            new_column = columns[0]+','+columns[1].replace(\"\\n\", \"\")+'\\n'\n",
    "            result.write(new_column.lower())"
   ]
  },
  {
   "cell_type": "code",
   "execution_count": 86,
   "metadata": {},
   "outputs": [],
   "source": [
    "df = pd.read_csv('newtopics.csv', header= 0, names=['序号', '关键词'], index_col=0)\n",
    "df = df[df['关键词'].str.contains('complexity')]\n",
    "df2 = pd.read_csv('papers_changed.csv', index_col=0)"
   ]
  },
  {
   "cell_type": "code",
   "execution_count": 95,
   "metadata": {},
   "outputs": [
    {
     "data": {
      "text/plain": [
       "['https://doi.org/10.1093/applin/amy064',\n",
       " 'https://doi.org/10.1093/applin/amz005',\n",
       " 'https://doi.org/10.1093/applin/amz034',\n",
       " 'https://doi.org/10.1093/applin/amx001',\n",
       " 'https://doi.org/10.1093/applin/amx031']"
      ]
     },
     "execution_count": 95,
     "metadata": {},
     "output_type": "execute_result"
    }
   ],
   "source": [
    "list_url = [i for i in df.join(df2['link'], how='inner')['link']]\n",
    "list_url"
   ]
  },
  {
   "cell_type": "markdown",
   "metadata": {},
   "source": [
    "从sci-hub爬取相关文章并保存为pdf。"
   ]
  },
  {
   "cell_type": "code",
   "execution_count": 109,
   "metadata": {},
   "outputs": [],
   "source": [
    "from fake_useragent import UserAgent\n",
    "import requests\n",
    "from bs4 import BeautifulSoup\n",
    "ua = UserAgent()\n",
    "import random, time"
   ]
  },
  {
   "cell_type": "code",
   "execution_count": 110,
   "metadata": {},
   "outputs": [],
   "source": [
    "domain_scihub = 'https://sci-hub.tf/'"
   ]
  },
  {
   "cell_type": "code",
   "execution_count": null,
   "metadata": {},
   "outputs": [
    {
     "name": "stdout",
     "output_type": "stream",
     "text": [
      "Downloaded: amy064.pdf\n",
      "Downloaded: amz005.pdf\n"
     ]
    }
   ],
   "source": [
    "for doi in list_url:\n",
    "    filename = doi[-6:]+'.pdf'\n",
    "    sci_url = domain_scihub + doi\n",
    "    headers = {'User-Agent': ua.random}\n",
    "    bs = BeautifulSoup(requests.get(sci_url, headers=headers).content, \"lxml\")\n",
    "    # 下面这一步是关键：\n",
    "    pdf_link = bs.find('div', id = 'buttons').find_all('a')[1].attrs.get(\"onclick\").replace('location.href=','')[1:-1]\n",
    "    if 'http:' in pdf_link:\n",
    "        continue\n",
    "    else:\n",
    "        pdf_link = 'http:' + pdf_link\n",
    "    response = requests.get(pdf_link, headers=headers)\n",
    "    with open('complexity '+ filename, 'wb') as f:\n",
    "        f.write(response.content)\n",
    "    print('Downloaded: '+ filename)\n",
    "    time.sleep(random.random()*10)  "
   ]
  }
 ],
 "metadata": {
  "kernelspec": {
   "display_name": "Python 3",
   "language": "python",
   "name": "python3"
  },
  "language_info": {
   "codemirror_mode": {
    "name": "ipython",
    "version": 3
   },
   "file_extension": ".py",
   "mimetype": "text/x-python",
   "name": "python",
   "nbconvert_exporter": "python",
   "pygments_lexer": "ipython3",
   "version": "3.8.3"
  }
 },
 "nbformat": 4,
 "nbformat_minor": 4
}
